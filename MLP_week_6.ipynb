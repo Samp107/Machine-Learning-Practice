{
  "nbformat": 4,
  "nbformat_minor": 0,
  "metadata": {
    "colab": {
      "name": "MLP_week_6.ipynb",
      "provenance": [],
      "authorship_tag": "ABX9TyNGuTKCteZConqt0OD4p3bM",
      "include_colab_link": true
    },
    "kernelspec": {
      "name": "python3",
      "display_name": "Python 3"
    },
    "language_info": {
      "name": "python"
    }
  },
  "cells": [
    {
      "cell_type": "markdown",
      "metadata": {
        "id": "view-in-github",
        "colab_type": "text"
      },
      "source": [
        "<a href=\"https://colab.research.google.com/github/samapatil1729/Machine-Learning-Practice/blob/main/MLP_week_6.ipynb\" target=\"_parent\"><img src=\"https://colab.research.google.com/assets/colab-badge.svg\" alt=\"Open In Colab\"/></a>"
      ]
    },
    {
      "cell_type": "markdown",
      "source": [
        "#Practice Assignment 6"
      ],
      "metadata": {
        "id": "P5za2VY4sNbW"
      }
    },
    {
      "cell_type": "code",
      "execution_count": null,
      "metadata": {
        "id": "_2yTdPhFDvRu"
      },
      "outputs": [],
      "source": [
        "import numpy as np\n",
        "import pandas as pd\n",
        "from sklearn.datasets import fetch_openml\n",
        "from sklearn.metrics import ConfusionMatrixDisplay"
      ]
    },
    {
      "cell_type": "code",
      "source": [
        "def warn(*args, **kwargs):\n",
        "  pass\n",
        "import warnings\n",
        "warnings.warn = warn"
      ],
      "metadata": {
        "id": "RxixXSHk1ArB"
      },
      "execution_count": null,
      "outputs": []
    },
    {
      "cell_type": "markdown",
      "source": [
        "##Question 1\n",
        "\n",
        "Use MNIST dataset. Store all the samples in X and labels in y.\n",
        " \n",
        "  Use: np.random.seed(42)\n",
        "  Split the dataset in the following ratio.\n",
        " Training : Take the first 70% of samples from X and store them in x_train\n",
        " Testing: Take the remaining 30% of samples from X and store them in x_test\n",
        "  Store the respective labels in y_train,y_test respectively.\n",
        "\n",
        "   The last training sample is of digit __?\n"
      ],
      "metadata": {
        "id": "YVcYEKi8EhTz"
      }
    },
    {
      "cell_type": "code",
      "source": [
        "import numpy as np\n",
        "import pandas as pd\n",
        "from sklearn.datasets import fetch_openml\n",
        "np.random.seed(42)"
      ],
      "metadata": {
        "id": "VHh5mjiVEqqf"
      },
      "execution_count": null,
      "outputs": []
    },
    {
      "cell_type": "code",
      "source": [
        "X, y = fetch_openml('mnist_784', return_X_y = True)"
      ],
      "metadata": {
        "id": "KyIDRJdLD4rU"
      },
      "execution_count": null,
      "outputs": []
    },
    {
      "cell_type": "code",
      "source": [
        "X = X.to_numpy()\n",
        "y = y.to_numpy().astype(np.int32)"
      ],
      "metadata": {
        "id": "zSetSb9LIceH"
      },
      "execution_count": null,
      "outputs": []
    },
    {
      "cell_type": "code",
      "source": [
        "x_train = X[:49000]\n",
        "x_test = X[49000:]\n",
        "y_train = y[:49000]\n",
        "y_test = y[49000:]"
      ],
      "metadata": {
        "id": "cLJI6ZO-EL0N"
      },
      "execution_count": null,
      "outputs": []
    },
    {
      "cell_type": "code",
      "source": [
        "type(y_train)"
      ],
      "metadata": {
        "colab": {
          "base_uri": "https://localhost:8080/"
        },
        "id": "tT38H1T3GTQM",
        "outputId": "16020282-07e6-449d-a914-ca7591ea274f"
      },
      "execution_count": null,
      "outputs": [
        {
          "output_type": "execute_result",
          "data": {
            "text/plain": [
              "numpy.ndarray"
            ]
          },
          "metadata": {},
          "execution_count": 6
        }
      ]
    },
    {
      "cell_type": "code",
      "source": [
        "print('The last training sample is of digit :', y_train[-1])"
      ],
      "metadata": {
        "colab": {
          "base_uri": "https://localhost:8080/"
        },
        "id": "0Ajym9o-E_PB",
        "outputId": "988bffa5-d901-490b-c089-5aa117a49640"
      },
      "execution_count": null,
      "outputs": [
        {
          "output_type": "stream",
          "name": "stdout",
          "text": [
            "The last training sample is of digit : 6\n"
          ]
        }
      ]
    },
    {
      "cell_type": "markdown",
      "source": [
        "##Question 2\n",
        "Build a classifier that differentiates digit 6 from digit 9.\n",
        "\n",
        "Steps to be followed\n",
        "\n",
        "Collect all digit-6 (Positive class) and digit-9 (Negative class) images from x_train\n",
        "\n",
        " and stack them properly as a single datamatrix \n",
        "x_train_69\n",
        "\n",
        "\n",
        "Keep all digit-6 images from index 0 to i followed by digit-9 images from index i+1 to n (i denotes the end index of digit-6 images)\n",
        "\n",
        "Similarly, collect the respective labels and store it in a variable y_train_69\n",
        "\n",
        "Set the label values to 1 for positive classes and 0 for negative classes.\n",
        "\n",
        "Load \n",
        "1\n",
        "\n",
        "from sklearn.utils import shuffle\n",
        "Shuffle the datamatrix and labels. \n",
        "Set \n",
        "\n",
        "random_state value to 1729\n",
        "Create x_test_69 and y_test_69\n",
        "by repeating the steps from 1 to 6 with required modifications.\n",
        "\n",
        "What is the sum of all the labels in the vector \n",
        "y_train_69"
      ],
      "metadata": {
        "id": "jCl-cnzEGyZv"
      }
    },
    {
      "cell_type": "code",
      "source": [
        "dig_6_idx = np.where(y_train == 6)[0]\n",
        "dig_9_idx = np.where(y_train == 9)[0]\n",
        "index = np.concatenate((dig_6_idx, dig_9_idx), axis = 0)\n",
        "x_train_69 = x_train[index,:]\n",
        "y_train_69 = np.concatenate((np.ones(len(dig_6_idx)), np.zeros(len(dig_9_idx))))"
      ],
      "metadata": {
        "id": "7DstEqPOFBc7"
      },
      "execution_count": null,
      "outputs": []
    },
    {
      "cell_type": "code",
      "source": [
        "from sklearn.utils import shuffle\n",
        "x_train_69, y_train_69 = shuffle(x_train_69, y_train_69, random_state = 1729)"
      ],
      "metadata": {
        "id": "0ab7Kh-mIPdM"
      },
      "execution_count": null,
      "outputs": []
    },
    {
      "cell_type": "code",
      "source": [
        "dig_6_idx = np.where(y_test == 6)[0]\n",
        "dig_9_idx = np.where(y_test == 9)[0]\n",
        "index = np.concatenate((dig_6_idx, dig_9_idx), axis = 0)\n",
        "x_test_69 = x_train[index,:]\n",
        "y_test_69 = np.concatenate((np.ones(len(dig_6_idx)), np.zeros(len(dig_9_idx))))"
      ],
      "metadata": {
        "id": "za6rifG_QLpr"
      },
      "execution_count": null,
      "outputs": []
    },
    {
      "cell_type": "code",
      "source": [
        "x_test_69, y_test_69 = shuffle(x_test_69, y_test_69, random_state = 1729)"
      ],
      "metadata": {
        "id": "h-h-5pD7Qbar"
      },
      "execution_count": null,
      "outputs": []
    },
    {
      "cell_type": "code",
      "source": [
        "print('Sum of all the labels in the vector y_train_69:', np.sum(y_train_69))\n",
        "print('Sum of all the labels in the vector y_test_69:', np.sum(y_test_69))"
      ],
      "metadata": {
        "colab": {
          "base_uri": "https://localhost:8080/"
        },
        "id": "4u0Yr6obNZ7b",
        "outputId": "b6f86554-6299-4e5f-a9b6-44dc9b17ec31"
      },
      "execution_count": null,
      "outputs": [
        {
          "output_type": "stream",
          "name": "stdout",
          "text": [
            "Sum of all the labels in the vector y_train_69: 4855.0\n",
            "Sum of all the labels in the vector y_test_69: 2021.0\n"
          ]
        }
      ]
    },
    {
      "cell_type": "markdown",
      "source": [
        "##Question 4\n",
        "Apply StandardScaler to all the training samples in x_train_69 and store the result in another variable (say, x_train_69Tf).\n",
        "\n",
        "     * What is the mean of the zeroth sample?\n",
        "     * What is the mean of zeroth feature?\n",
        "     * What is the standard deviation of the zeroth sample?\n",
        "     * What is the standard deviation of the zeroth feature?\n"
      ],
      "metadata": {
        "id": "8Mo9r5I3TMNx"
      }
    },
    {
      "cell_type": "code",
      "source": [
        "from sklearn.preprocessing import StandardScaler"
      ],
      "metadata": {
        "id": "CrhCkAxyQpNr"
      },
      "execution_count": null,
      "outputs": []
    },
    {
      "cell_type": "code",
      "source": [
        "std = StandardScaler()"
      ],
      "metadata": {
        "id": "oDJVjWE5SAJ3"
      },
      "execution_count": null,
      "outputs": []
    },
    {
      "cell_type": "code",
      "source": [
        "x_train_69Tf = std.fit_transform(x_train_69)"
      ],
      "metadata": {
        "id": "awj8opwqSGdC"
      },
      "execution_count": null,
      "outputs": []
    },
    {
      "cell_type": "code",
      "source": [
        "print('mean of the zeroth sample: ',np.round(np.mean(x_train_69Tf[0,:]),3) )\n",
        "print('mean of zeroth feature: ', np.mean(x_train_69Tf[:,0]) )\n",
        "print('standard deviation of the zeroth sample: ', np.round(np.std(x_train_69Tf[0,:]),2) )\n",
        "print('standard deviation of the zeroth feature: ', np.std(x_train_69Tf[:,0]) )"
      ],
      "metadata": {
        "colab": {
          "base_uri": "https://localhost:8080/"
        },
        "id": "LdoLe-YFSX36",
        "outputId": "4d0afc7f-8e56-4ce7-88dd-ed836ebdc0ce"
      },
      "execution_count": null,
      "outputs": [
        {
          "output_type": "stream",
          "name": "stdout",
          "text": [
            "mean of the zeroth sample:  0.081\n",
            "mean of zeroth feature:  0.0\n",
            "standard deviation of the zeroth sample:  0.74\n",
            "standard deviation of the zeroth feature:  0.0\n"
          ]
        }
      ]
    },
    {
      "cell_type": "markdown",
      "source": [
        "##Question 5\n",
        "Train the LogisticRegression model using SGDClassifier() with the following common settings.\n",
        "\n",
        "No Regularization\n",
        "\n",
        "random_state : 10\n",
        "\n",
        "Iteration : 10\n",
        "\n",
        "Capture the loss for each iteration and plot the iteration vs loss curve.\n",
        "\n",
        "For which of the following settings, the iteration vs loss curve decreased monotonically?\n",
        "\n",
        "A. Set Learning rate : 0.01 and plot the curve and fit the model with `x_train_69 `\n",
        "<br>B.Set learning rate to 0.000001 and fit the model with `x_train_69 ` . <br>C.Keep the learning rate as 0.01. Scale the samples using StandardScaler() and fit the model with the pre-processed samples.\n",
        "<br>D.Use the \"invscaling\" stratagey for the learning rate with power_t = 1. Fit the model with x_train_69 (without pre-procesing)."
      ],
      "metadata": {
        "id": "foElCtwZVJII"
      }
    },
    {
      "cell_type": "code",
      "source": [
        "from sklearn.linear_model import LogisticRegression\n",
        "from sklearn.linear_model import SGDClassifier\n",
        "from sklearn.pipeline import make_pipeline\n",
        "from sklearn.metrics import log_loss\n",
        "import matplotlib.pyplot as  plt\n",
        "from sklearn.preprocessing import StandardScaler"
      ],
      "metadata": {
        "id": "Vo2RJyCZT_2n"
      },
      "execution_count": null,
      "outputs": []
    },
    {
      "cell_type": "markdown",
      "source": [
        "A. Set Learning rate : 0.01 and plot the curve and fit the model with x_train_69"
      ],
      "metadata": {
        "id": "yn69vPZrmUS-"
      }
    },
    {
      "cell_type": "code",
      "source": [
        "sgd = SGDClassifier(loss = 'log', eta0 = 0.01, penalty = 'l2', alpha = 0, learning_rate = 'constant', warm_start = True, random_state = 10, max_iter = 1)\n",
        "pipe = make_pipeline(sgd)\n",
        "Loss = []\n",
        "iterations = 10\n",
        "for i in range(iterations):\n",
        "  pipe.fit(x_train_69, y_train_69)\n",
        "  y_pred = sgd.predict_proba(x_train_69)\n",
        "  Loss.append(log_loss(y_train_69, y_pred))\n",
        "Loss"
      ],
      "metadata": {
        "colab": {
          "base_uri": "https://localhost:8080/"
        },
        "id": "HJsOPMDaWMq1",
        "outputId": "7e034c38-f014-43ce-d8d2-0eb02d9042f6"
      },
      "execution_count": null,
      "outputs": [
        {
          "output_type": "stream",
          "name": "stderr",
          "text": [
            "/usr/local/lib/python3.7/dist-packages/sklearn/linear_model/_stochastic_gradient.py:700: ConvergenceWarning: Maximum number of iteration reached before convergence. Consider increasing max_iter to improve the fit.\n",
            "  ConvergenceWarning,\n",
            "/usr/local/lib/python3.7/dist-packages/sklearn/linear_model/_stochastic_gradient.py:700: ConvergenceWarning: Maximum number of iteration reached before convergence. Consider increasing max_iter to improve the fit.\n",
            "  ConvergenceWarning,\n",
            "/usr/local/lib/python3.7/dist-packages/sklearn/linear_model/_stochastic_gradient.py:700: ConvergenceWarning: Maximum number of iteration reached before convergence. Consider increasing max_iter to improve the fit.\n",
            "  ConvergenceWarning,\n",
            "/usr/local/lib/python3.7/dist-packages/sklearn/linear_model/_stochastic_gradient.py:700: ConvergenceWarning: Maximum number of iteration reached before convergence. Consider increasing max_iter to improve the fit.\n",
            "  ConvergenceWarning,\n",
            "/usr/local/lib/python3.7/dist-packages/sklearn/linear_model/_stochastic_gradient.py:700: ConvergenceWarning: Maximum number of iteration reached before convergence. Consider increasing max_iter to improve the fit.\n",
            "  ConvergenceWarning,\n",
            "/usr/local/lib/python3.7/dist-packages/sklearn/linear_model/_stochastic_gradient.py:700: ConvergenceWarning: Maximum number of iteration reached before convergence. Consider increasing max_iter to improve the fit.\n",
            "  ConvergenceWarning,\n",
            "/usr/local/lib/python3.7/dist-packages/sklearn/linear_model/_stochastic_gradient.py:700: ConvergenceWarning: Maximum number of iteration reached before convergence. Consider increasing max_iter to improve the fit.\n",
            "  ConvergenceWarning,\n",
            "/usr/local/lib/python3.7/dist-packages/sklearn/linear_model/_stochastic_gradient.py:700: ConvergenceWarning: Maximum number of iteration reached before convergence. Consider increasing max_iter to improve the fit.\n",
            "  ConvergenceWarning,\n",
            "/usr/local/lib/python3.7/dist-packages/sklearn/linear_model/_stochastic_gradient.py:700: ConvergenceWarning: Maximum number of iteration reached before convergence. Consider increasing max_iter to improve the fit.\n",
            "  ConvergenceWarning,\n",
            "/usr/local/lib/python3.7/dist-packages/sklearn/linear_model/_stochastic_gradient.py:700: ConvergenceWarning: Maximum number of iteration reached before convergence. Consider increasing max_iter to improve the fit.\n",
            "  ConvergenceWarning,\n"
          ]
        },
        {
          "output_type": "execute_result",
          "data": {
            "text/plain": [
              "[0.06733395767528347,\n",
              " 0.03543892509225493,\n",
              " 0.10986066778598817,\n",
              " 0.07087785018450886,\n",
              " 0.060246172656832665,\n",
              " 0.014175570036902568,\n",
              " 0.07796563520295964,\n",
              " 0.099228990258312,\n",
              " 0.007087785018451783,\n",
              " 0.0035438925092263914]"
            ]
          },
          "metadata": {},
          "execution_count": 52
        }
      ]
    },
    {
      "cell_type": "code",
      "source": [
        "plt.figure()\n",
        "plt.plot(np.arange(iterations), Loss)\n",
        "plt.grid(True)\n",
        "plt.xlabel('Iteration')\n",
        "plt.ylabel('Loss')\n",
        "plt.show()"
      ],
      "metadata": {
        "id": "_RSuug_3bZhq",
        "colab": {
          "base_uri": "https://localhost:8080/",
          "height": 279
        },
        "outputId": "37e65047-ec44-4c2b-87c6-fc5a409470a9"
      },
      "execution_count": null,
      "outputs": [
        {
          "output_type": "display_data",
          "data": {
            "text/plain": [
              "<Figure size 432x288 with 1 Axes>"
            ],
            "image/png": "[encoded data removed]"
          },
          "metadata": {
            "needs_background": "light"
          }
        }
      ]
    },
    {
      "cell_type": "markdown",
      "source": [
        "B.Set learning rate to 0.000001 and fit the model with x_train_69."
      ],
      "metadata": {
        "id": "Ke4GZs5dmWyP"
      }
    },
    {
      "cell_type": "code",
      "source": [
        "sgd = SGDClassifier(loss = 'log', eta0 = 0.000001, penalty = 'l2', alpha = 0, learning_rate = 'constant', warm_start = True, random_state = 10, max_iter = 1)\n",
        "pipe = make_pipeline(sgd)\n",
        "Loss = []\n",
        "iterations = 10\n",
        "for i in range(iterations):\n",
        "  pipe.fit(x_train_69, y_train_69)\n",
        "  y_pred = sgd.predict_proba(x_train_69)\n",
        "  Loss.append(log_loss(y_train_69, y_pred))\n",
        "Loss"
      ],
      "metadata": {
        "colab": {
          "base_uri": "https://localhost:8080/"
        },
        "id": "FNfkYFnHljYV",
        "outputId": "ca9e6619-52a2-40ef-d721-58b86b1e3d96"
      },
      "execution_count": null,
      "outputs": [
        {
          "output_type": "stream",
          "name": "stderr",
          "text": [
            "/usr/local/lib/python3.7/dist-packages/sklearn/linear_model/_stochastic_gradient.py:700: ConvergenceWarning: Maximum number of iteration reached before convergence. Consider increasing max_iter to improve the fit.\n",
            "  ConvergenceWarning,\n",
            "/usr/local/lib/python3.7/dist-packages/sklearn/linear_model/_stochastic_gradient.py:700: ConvergenceWarning: Maximum number of iteration reached before convergence. Consider increasing max_iter to improve the fit.\n",
            "  ConvergenceWarning,\n",
            "/usr/local/lib/python3.7/dist-packages/sklearn/linear_model/_stochastic_gradient.py:700: ConvergenceWarning: Maximum number of iteration reached before convergence. Consider increasing max_iter to improve the fit.\n",
            "  ConvergenceWarning,\n",
            "/usr/local/lib/python3.7/dist-packages/sklearn/linear_model/_stochastic_gradient.py:700: ConvergenceWarning: Maximum number of iteration reached before convergence. Consider increasing max_iter to improve the fit.\n",
            "  ConvergenceWarning,\n",
            "/usr/local/lib/python3.7/dist-packages/sklearn/linear_model/_stochastic_gradient.py:700: ConvergenceWarning: Maximum number of iteration reached before convergence. Consider increasing max_iter to improve the fit.\n",
            "  ConvergenceWarning,\n",
            "/usr/local/lib/python3.7/dist-packages/sklearn/linear_model/_stochastic_gradient.py:700: ConvergenceWarning: Maximum number of iteration reached before convergence. Consider increasing max_iter to improve the fit.\n",
            "  ConvergenceWarning,\n",
            "/usr/local/lib/python3.7/dist-packages/sklearn/linear_model/_stochastic_gradient.py:700: ConvergenceWarning: Maximum number of iteration reached before convergence. Consider increasing max_iter to improve the fit.\n",
            "  ConvergenceWarning,\n",
            "/usr/local/lib/python3.7/dist-packages/sklearn/linear_model/_stochastic_gradient.py:700: ConvergenceWarning: Maximum number of iteration reached before convergence. Consider increasing max_iter to improve the fit.\n",
            "  ConvergenceWarning,\n",
            "/usr/local/lib/python3.7/dist-packages/sklearn/linear_model/_stochastic_gradient.py:700: ConvergenceWarning: Maximum number of iteration reached before convergence. Consider increasing max_iter to improve the fit.\n",
            "  ConvergenceWarning,\n",
            "/usr/local/lib/python3.7/dist-packages/sklearn/linear_model/_stochastic_gradient.py:700: ConvergenceWarning: Maximum number of iteration reached before convergence. Consider increasing max_iter to improve the fit.\n",
            "  ConvergenceWarning,\n"
          ]
        },
        {
          "output_type": "execute_result",
          "data": {
            "text/plain": [
              "[0.007247702945144064,\n",
              " 0.005086209073727681,\n",
              " 0.003883883314929383,\n",
              " 0.0030681564755779987,\n",
              " 0.002529359907903669,\n",
              " 0.002087831991269142,\n",
              " 0.0016959910477317719,\n",
              " 0.0014038336345746708,\n",
              " 0.00120814629643334,\n",
              " 0.0010669212070048423]"
            ]
          },
          "metadata": {},
          "execution_count": 33
        }
      ]
    },
    {
      "cell_type": "code",
      "source": [
        "plt.figure()\n",
        "plt.plot(np.arange(iterations), Loss)\n",
        "plt.grid(True)\n",
        "plt.xlabel('Iteration')\n",
        "plt.ylabel('Loss')\n",
        "plt.show()"
      ],
      "metadata": {
        "colab": {
          "base_uri": "https://localhost:8080/",
          "height": 279
        },
        "id": "jojIoMkRmfDK",
        "outputId": "b4dba5cd-9332-4d86-b68e-3a0319ab2cb4"
      },
      "execution_count": null,
      "outputs": [
        {
          "output_type": "display_data",
          "data": {
            "text/plain": [
              "<Figure size 432x288 with 1 Axes>"
            ],
            "image/png": "[encoded data removed]"
          },
          "metadata": {
            "needs_background": "light"
          }
        }
      ]
    },
    {
      "cell_type": "markdown",
      "source": [
        "C.Keep the learning rate as 0.01. Scale the samples using StandardScaler() and fit the model with the pre-processed samples."
      ],
      "metadata": {
        "id": "gjnDXl2Lm2te"
      }
    },
    {
      "cell_type": "code",
      "source": [
        "sgd = SGDClassifier(loss = 'log', eta0 = 0.01, penalty = 'l2', alpha = 0,\n",
        "                    learning_rate = 'constant', warm_start = True, random_state = 10, max_iter = 1)\n",
        "pipe = make_pipeline(StandardScaler(), sgd)\n",
        "Loss = []\n",
        "iterations = 10\n",
        "for i in range(iterations):\n",
        "  pipe.fit(x_train_69, y_train_69)\n",
        "  y_pred = pipe.predict_proba(x_train_69)\n",
        "  Loss.append(log_loss(y_train_69, y_pred))\n",
        "Loss"
      ],
      "metadata": {
        "colab": {
          "base_uri": "https://localhost:8080/"
        },
        "id": "l7LpNUF9mze6",
        "outputId": "a152d11d-efbd-4892-8cbf-662e06588cb8"
      },
      "execution_count": null,
      "outputs": [
        {
          "output_type": "stream",
          "name": "stderr",
          "text": [
            "/usr/local/lib/python3.7/dist-packages/sklearn/linear_model/_stochastic_gradient.py:700: ConvergenceWarning: Maximum number of iteration reached before convergence. Consider increasing max_iter to improve the fit.\n",
            "  ConvergenceWarning,\n",
            "/usr/local/lib/python3.7/dist-packages/sklearn/linear_model/_stochastic_gradient.py:700: ConvergenceWarning: Maximum number of iteration reached before convergence. Consider increasing max_iter to improve the fit.\n",
            "  ConvergenceWarning,\n",
            "/usr/local/lib/python3.7/dist-packages/sklearn/linear_model/_stochastic_gradient.py:700: ConvergenceWarning: Maximum number of iteration reached before convergence. Consider increasing max_iter to improve the fit.\n",
            "  ConvergenceWarning,\n",
            "/usr/local/lib/python3.7/dist-packages/sklearn/linear_model/_stochastic_gradient.py:700: ConvergenceWarning: Maximum number of iteration reached before convergence. Consider increasing max_iter to improve the fit.\n",
            "  ConvergenceWarning,\n",
            "/usr/local/lib/python3.7/dist-packages/sklearn/linear_model/_stochastic_gradient.py:700: ConvergenceWarning: Maximum number of iteration reached before convergence. Consider increasing max_iter to improve the fit.\n",
            "  ConvergenceWarning,\n",
            "/usr/local/lib/python3.7/dist-packages/sklearn/linear_model/_stochastic_gradient.py:700: ConvergenceWarning: Maximum number of iteration reached before convergence. Consider increasing max_iter to improve the fit.\n",
            "  ConvergenceWarning,\n",
            "/usr/local/lib/python3.7/dist-packages/sklearn/linear_model/_stochastic_gradient.py:700: ConvergenceWarning: Maximum number of iteration reached before convergence. Consider increasing max_iter to improve the fit.\n",
            "  ConvergenceWarning,\n",
            "/usr/local/lib/python3.7/dist-packages/sklearn/linear_model/_stochastic_gradient.py:700: ConvergenceWarning: Maximum number of iteration reached before convergence. Consider increasing max_iter to improve the fit.\n",
            "  ConvergenceWarning,\n",
            "/usr/local/lib/python3.7/dist-packages/sklearn/linear_model/_stochastic_gradient.py:700: ConvergenceWarning: Maximum number of iteration reached before convergence. Consider increasing max_iter to improve the fit.\n",
            "  ConvergenceWarning,\n",
            "/usr/local/lib/python3.7/dist-packages/sklearn/linear_model/_stochastic_gradient.py:700: ConvergenceWarning: Maximum number of iteration reached before convergence. Consider increasing max_iter to improve the fit.\n",
            "  ConvergenceWarning,\n"
          ]
        },
        {
          "output_type": "execute_result",
          "data": {
            "text/plain": [
              "[0.004805694465799851,\n",
              " 0.0027075473914506595,\n",
              " 0.0014486912217035186,\n",
              " 0.0011039293517647957,\n",
              " 0.0009046172125454562,\n",
              " 0.000774552569345259,\n",
              " 0.0006816283932339929,\n",
              " 0.0006111814728430251,\n",
              " 0.0005554752798147429,\n",
              " 0.0005100674372192984]"
            ]
          },
          "metadata": {},
          "execution_count": 48
        }
      ]
    },
    {
      "cell_type": "code",
      "source": [
        "plt.figure()\n",
        "plt.plot(np.arange(iterations), Loss)\n",
        "plt.grid(True)\n",
        "plt.xlabel('Iteration')\n",
        "plt.ylabel('Loss')\n",
        "plt.show()"
      ],
      "metadata": {
        "colab": {
          "base_uri": "https://localhost:8080/",
          "height": 282
        },
        "id": "iOfx7SChncuB",
        "outputId": "9b6c33a7-e8b3-4165-d8b3-60c0d21348e5"
      },
      "execution_count": null,
      "outputs": [
        {
          "output_type": "display_data",
          "data": {
            "text/plain": [
              "<Figure size 432x288 with 1 Axes>"
            ],
            "image/png": "[encoded data removed]"
          },
          "metadata": {
            "needs_background": "light"
          }
        }
      ]
    },
    {
      "cell_type": "markdown",
      "source": [
        "D.Use the \"invscaling\" stratagey for the learning rate with power_t = 1. Fit the model with x_train_69 (without pre-procesing)."
      ],
      "metadata": {
        "id": "4PnkirABoqna"
      }
    },
    {
      "cell_type": "code",
      "source": [
        "sgd = SGDClassifier(loss = 'log', eta0 = 0.01, penalty = 'l2', alpha = 0, learning_rate = 'invscaling', power_t = 1, warm_start = True, random_state = 10, max_iter = 1)\n",
        "pipe = make_pipeline(sgd)\n",
        "Loss = []\n",
        "iterations = 10\n",
        "for i in range(iterations):\n",
        "  pipe.fit(x_train_69, y_train_69)\n",
        "  y_pred = pipe.predict_proba(x_train_69)\n",
        "  Loss.append(log_loss(y_train_69, y_pred))\n",
        "Loss"
      ],
      "metadata": {
        "colab": {
          "base_uri": "https://localhost:8080/"
        },
        "id": "wJXOlSkwnkDn",
        "outputId": "eb67513d-5490-4555-b8f4-d01a23d30afa"
      },
      "execution_count": null,
      "outputs": [
        {
          "output_type": "stream",
          "name": "stderr",
          "text": [
            "/usr/local/lib/python3.7/dist-packages/sklearn/linear_model/_stochastic_gradient.py:700: ConvergenceWarning: Maximum number of iteration reached before convergence. Consider increasing max_iter to improve the fit.\n",
            "  ConvergenceWarning,\n",
            "/usr/local/lib/python3.7/dist-packages/sklearn/linear_model/_stochastic_gradient.py:700: ConvergenceWarning: Maximum number of iteration reached before convergence. Consider increasing max_iter to improve the fit.\n",
            "  ConvergenceWarning,\n",
            "/usr/local/lib/python3.7/dist-packages/sklearn/linear_model/_stochastic_gradient.py:700: ConvergenceWarning: Maximum number of iteration reached before convergence. Consider increasing max_iter to improve the fit.\n",
            "  ConvergenceWarning,\n",
            "/usr/local/lib/python3.7/dist-packages/sklearn/linear_model/_stochastic_gradient.py:700: ConvergenceWarning: Maximum number of iteration reached before convergence. Consider increasing max_iter to improve the fit.\n",
            "  ConvergenceWarning,\n",
            "/usr/local/lib/python3.7/dist-packages/sklearn/linear_model/_stochastic_gradient.py:700: ConvergenceWarning: Maximum number of iteration reached before convergence. Consider increasing max_iter to improve the fit.\n",
            "  ConvergenceWarning,\n",
            "/usr/local/lib/python3.7/dist-packages/sklearn/linear_model/_stochastic_gradient.py:700: ConvergenceWarning: Maximum number of iteration reached before convergence. Consider increasing max_iter to improve the fit.\n",
            "  ConvergenceWarning,\n",
            "/usr/local/lib/python3.7/dist-packages/sklearn/linear_model/_stochastic_gradient.py:700: ConvergenceWarning: Maximum number of iteration reached before convergence. Consider increasing max_iter to improve the fit.\n",
            "  ConvergenceWarning,\n",
            "/usr/local/lib/python3.7/dist-packages/sklearn/linear_model/_stochastic_gradient.py:700: ConvergenceWarning: Maximum number of iteration reached before convergence. Consider increasing max_iter to improve the fit.\n",
            "  ConvergenceWarning,\n",
            "/usr/local/lib/python3.7/dist-packages/sklearn/linear_model/_stochastic_gradient.py:700: ConvergenceWarning: Maximum number of iteration reached before convergence. Consider increasing max_iter to improve the fit.\n",
            "  ConvergenceWarning,\n",
            "/usr/local/lib/python3.7/dist-packages/sklearn/linear_model/_stochastic_gradient.py:700: ConvergenceWarning: Maximum number of iteration reached before convergence. Consider increasing max_iter to improve the fit.\n",
            "  ConvergenceWarning,\n"
          ]
        },
        {
          "output_type": "execute_result",
          "data": {
            "text/plain": [
              "[0.45994846751379603,\n",
              " 0.4015614143786986,\n",
              " 0.35455249299143105,\n",
              " 0.2933293939368558,\n",
              " 0.273105389378278,\n",
              " 0.2535448881128582,\n",
              " 0.23568239294710672,\n",
              " 0.22545646289153717,\n",
              " 0.21852854294930427,\n",
              " 0.21182579487758774]"
            ]
          },
          "metadata": {},
          "execution_count": 50
        }
      ]
    },
    {
      "cell_type": "code",
      "source": [
        "plt.figure()\n",
        "plt.plot(np.arange(iterations), Loss)\n",
        "plt.grid(True)\n",
        "plt.xlabel('Iteration')\n",
        "plt.ylabel('Loss')\n",
        "plt.show()"
      ],
      "metadata": {
        "colab": {
          "base_uri": "https://localhost:8080/",
          "height": 279
        },
        "id": "UqHvFn55o9qG",
        "outputId": "52d62946-687e-4dcb-f3e6-071cc0372072"
      },
      "execution_count": null,
      "outputs": [
        {
          "output_type": "display_data",
          "data": {
            "text/plain": [
              "<Figure size 432x288 with 1 Axes>"
            ],
            "image/png": "[encoded data removed]"
          },
          "metadata": {
            "needs_background": "light"
          }
        }
      ]
    },
    {
      "cell_type": "code",
      "source": [
        ""
      ],
      "metadata": {
        "id": "z4M432DnpBK0"
      },
      "execution_count": null,
      "outputs": []
    },
    {
      "cell_type": "markdown",
      "source": [
        "#Graded Assignment 6"
      ],
      "metadata": {
        "id": "d4Uwxl-AsR_D"
      }
    },
    {
      "cell_type": "markdown",
      "source": [
        "##Question 1\n",
        "Train the LogisticRegression model using SGDClassifier() with the following common settings.\n",
        "\n",
        "No Regularization\n",
        "random_state : 10\n",
        "Iteration : 30\n",
        "Capture the loss for each iteration and plot the iteration vs loss curve. For which of the following settings, the iteration vs loss curve converged quickly to zero loss?\n",
        "\n",
        "A. Set Learning rate : 0.01 and plot the curve and fit the model with `x_train_69 `\n",
        "\n",
        "B.Set learning rate to 0.000001 and fit the model with `x_train_69 ` . \n",
        "\n",
        "C.Keep the learning rate as 0.01. Scale the samples using StandardScaler() and fit the model with the pre-processed samples.\n",
        "\n",
        "D.Use the \"invscaling\" stratagey for the learning rate with power_t = 1. Fit the model with x_train_69 (without pre-procesing).\n"
      ],
      "metadata": {
        "id": "HzpwS_ROsWu2"
      }
    },
    {
      "cell_type": "markdown",
      "source": [
        "A. Set Learning rate : 0.01 and plot the curve and fit the model with x_train_69\n",
        "\n",
        "**Ans: 14**"
      ],
      "metadata": {
        "id": "vi-T3rKA1e0B"
      }
    },
    {
      "cell_type": "code",
      "source": [
        "sgd_A = SGDClassifier(loss = 'log', penalty = 'l2', warm_start=True,  random_state = 10, max_iter = 1, learning_rate = 'constant', alpha = 0, eta0 = 0.01)"
      ],
      "metadata": {
        "id": "5pcYxMk7sV12"
      },
      "execution_count": null,
      "outputs": []
    },
    {
      "cell_type": "code",
      "source": [
        "pipe = make_pipeline(sgd_A)\n",
        "Loss = []\n",
        "iterations = 30\n",
        "for i in range(iterations):\n",
        "  pipe.fit(x_train_69, y_train_69)\n",
        "  y_pred = pipe.predict_proba(x_train_69)\n",
        "  Loss.append(log_loss(y_train_69, y_pred))\n",
        "\n",
        "plt.figure()\n",
        "plt.plot(np.arange(iterations), Loss)\n",
        "plt.xticks(ticks = np.arange(30), labels = np.arange(30))\n",
        "plt.grid(True)\n",
        "plt.xlabel('Iterations')\n",
        "plt.ylabel('Loss')\n",
        "plt.show()"
      ],
      "metadata": {
        "colab": {
          "base_uri": "https://localhost:8080/",
          "height": 279
        },
        "id": "GuxU1r8AuO9l",
        "outputId": "e1d20c7f-eff9-434e-e276-4d4956ebe8e4"
      },
      "execution_count": null,
      "outputs": [
        {
          "output_type": "display_data",
          "data": {
            "text/plain": [
              "<Figure size 432x288 with 1 Axes>"
            ],
            "image/png": "[encoded data removed]"
          },
          "metadata": {
            "needs_background": "light"
          }
        }
      ]
    },
    {
      "cell_type": "markdown",
      "source": [
        "B.Set learning rate to 0.000001 and fit the model with x_train_69 ."
      ],
      "metadata": {
        "id": "qpyE18DI1ksb"
      }
    },
    {
      "cell_type": "code",
      "source": [
        "sgd_B = SGDClassifier(loss = 'log', max_iter = 1, random_state=10, warm_start = True, \n",
        "                      eta0 = 0.000001, learning_rate = 'constant', penalty = 'l2', alpha = 0)"
      ],
      "metadata": {
        "id": "9RPjHFHmxtal"
      },
      "execution_count": null,
      "outputs": []
    },
    {
      "cell_type": "code",
      "source": [
        "pipe = make_pipeline(sgd_B)\n",
        "Loss = []\n",
        "iterations = 30\n",
        "for i in range(iterations):\n",
        "  pipe.fit(x_train_69, y_train_69)\n",
        "  y_pred = pipe.predict_proba(x_train_69)\n",
        "  Loss.append(log_loss(y_train_69, y_pred))\n",
        "\n",
        "plt.figure()\n",
        "plt.plot(np.arange(iterations), Loss)\n",
        "plt.xticks(ticks = np.arange(30), labels = np.arange(30))\n",
        "plt.grid(True)\n",
        "plt.xlabel('Iterations')\n",
        "plt.ylabel('Loss')\n",
        "plt.show"
      ],
      "metadata": {
        "colab": {
          "base_uri": "https://localhost:8080/",
          "height": 296
        },
        "id": "cmVd31fN2U2e",
        "outputId": "e4bd4874-9b7f-403c-ae86-3c9a48bc9d65"
      },
      "execution_count": null,
      "outputs": [
        {
          "output_type": "execute_result",
          "data": {
            "text/plain": [
              "<function matplotlib.pyplot.show>"
            ]
          },
          "metadata": {},
          "execution_count": 89
        },
        {
          "output_type": "display_data",
          "data": {
            "text/plain": [
              "<Figure size 432x288 with 1 Axes>"
            ],
            "image/png": "[encoded data removed]"
          },
          "metadata": {
            "needs_background": "light"
          }
        }
      ]
    },
    {
      "cell_type": "markdown",
      "source": [
        "C.Keep the learning rate as 0.01. Scale the samples using StandardScaler() and fit the model with the pre-processed samples."
      ],
      "metadata": {
        "id": "zP8J_e7I5WXC"
      }
    },
    {
      "cell_type": "code",
      "source": [
        "sgd_c = SGDClassifier(loss = 'log', max_iter = 1, random_state=10, warm_start = True, \n",
        "                      eta0 = 0.01, learning_rate = 'constant', penalty = 'l2', alpha = 0)\n",
        "\n",
        "pipe = make_pipeline(StandardScaler(), sgd_c)\n",
        "Loss = []\n",
        "iterations = 30\n",
        "for i in range(iterations):\n",
        "  pipe.fit(x_train_69, y_train_69)\n",
        "  y_pred = pipe.predict_proba(x_train_69)\n",
        "  Loss.append(log_loss(y_train_69, y_pred))\n",
        "\n",
        "plt.figure()\n",
        "plt.plot(np.arange(iterations), Loss)\n",
        "plt.xticks(ticks = np.arange(30), labels = np.arange(30))\n",
        "plt.grid(True)\n",
        "plt.xlabel('Iterations')\n",
        "plt.ylabel('Loss')\n",
        "plt.show"
      ],
      "metadata": {
        "colab": {
          "base_uri": "https://localhost:8080/",
          "height": 299
        },
        "id": "XKGddfpO3kKY",
        "outputId": "3aa5b21b-0732-422a-c60d-f5682363f853"
      },
      "execution_count": null,
      "outputs": [
        {
          "output_type": "execute_result",
          "data": {
            "text/plain": [
              "<function matplotlib.pyplot.show>"
            ]
          },
          "metadata": {},
          "execution_count": 90
        },
        {
          "output_type": "display_data",
          "data": {
            "text/plain": [
              "<Figure size 432x288 with 1 Axes>"
            ],
            "image/png": "[encoded data removed]"
          },
          "metadata": {
            "needs_background": "light"
          }
        }
      ]
    },
    {
      "cell_type": "markdown",
      "source": [
        "D.Use the \"invscaling\" stratagey for the learning rate with power_t = 1. Fit the model with x_train_69 (without pre-procesing)."
      ],
      "metadata": {
        "id": "1xjmTu6550zy"
      }
    },
    {
      "cell_type": "code",
      "source": [
        "sgd_D = SGDClassifier(loss = 'log', max_iter = 1, random_state=10, warm_start = True, \n",
        "                      eta0 = 0.01, learning_rate = 'invscaling', power_t = 1, penalty = 'l2', alpha = 0)\n",
        "\n",
        "\n",
        "pipe = make_pipeline(sgd_D)\n",
        "Loss = []\n",
        "iterations = 30\n",
        "for i in range(iterations):\n",
        "  pipe.fit(x_train_69, y_train_69)\n",
        "  y_pred = pipe.predict_proba(x_train_69)\n",
        "  Loss.append(log_loss(y_train_69, y_pred))\n",
        "\n",
        "plt.figure()\n",
        "plt.plot(np.arange(iterations), Loss)\n",
        "#plt.xticks(ticks = np.arange(30), labels = np.arange(30))\n",
        "plt.grid(True)\n",
        "plt.xlabel('Iterations')\n",
        "plt.ylabel('Loss')\n",
        "plt.show"
      ],
      "metadata": {
        "colab": {
          "base_uri": "https://localhost:8080/",
          "height": 296
        },
        "id": "9jf1h3Up5mZ4",
        "outputId": "bbcd0c89-49ae-4240-cb8a-bbebee747b1d"
      },
      "execution_count": null,
      "outputs": [
        {
          "output_type": "execute_result",
          "data": {
            "text/plain": [
              "<function matplotlib.pyplot.show>"
            ]
          },
          "metadata": {},
          "execution_count": 92
        },
        {
          "output_type": "display_data",
          "data": {
            "text/plain": [
              "<Figure size 432x288 with 1 Axes>"
            ],
            "image/png": "[encoded data removed]"
          },
          "metadata": {
            "needs_background": "light"
          }
        }
      ]
    },
    {
      "cell_type": "markdown",
      "source": [
        "##Question 2\n",
        "\n",
        "In the above question, enter the iteration number for which the loss becomes zero and remains zero for the rest of the iterations.\n",
        "\n",
        "**Ans: 14**"
      ],
      "metadata": {
        "id": "WZmJcUj96bFn"
      }
    },
    {
      "cell_type": "markdown",
      "source": [
        "##Question 3\n",
        "\n",
        "Create the classifier with the following settings\n",
        "\n",
        "No Regularization\n",
        "\n",
        "eta0 = 0.5\n",
        "\n",
        "learning_rate = 'inv_scaling'\n",
        "\n",
        "power_t = 0.5\n",
        "\n",
        "iterations = 10\n",
        "\n",
        "Shuffle = True\n",
        "\n",
        "random_state = 10\n",
        "\n",
        "Train the classifier with x_train_69\n",
        "\n",
        "Answer the following questions?"
      ],
      "metadata": {
        "id": "J-XPuxeH6mQw"
      }
    },
    {
      "cell_type": "markdown",
      "source": [
        "How many false positives (FP) are there in the predictions made on training samples?\n",
        "\n",
        "**Ans: 7**"
      ],
      "metadata": {
        "id": "CYFPAWUj7YeJ"
      }
    },
    {
      "cell_type": "code",
      "source": [
        "sgd = SGDClassifier(loss = 'log', eta0 = 0.5, penalty = 'l2', warm_start =False, \n",
        "                    learning_rate = 'invscaling', alpha = 0, power_t = 0.5, max_iter = 10, shuffle = True, random_state = 10)\n",
        "pipe_sgd = make_pipeline(sgd)\n",
        "pipe_sgd.fit(x_train_69, y_train_69)\n",
        "y_pred = pipe_sgd.predict(x_train_69)\n",
        "ConfusionMatrixDisplay.from_predictions(y_train_69, y_pred, labels = [0,1])\n",
        "plt.show()"
      ],
      "metadata": {
        "colab": {
          "base_uri": "https://localhost:8080/",
          "height": 279
        },
        "id": "VuDIu3tJ6MCd",
        "outputId": "adbad6e4-385c-4c07-9667-c77c98d71f12"
      },
      "execution_count": null,
      "outputs": [
        {
          "output_type": "display_data",
          "data": {
            "text/plain": [
              "<Figure size 432x288 with 2 Axes>"
            ],
            "image/png": "[encoded data removed]"
          },
          "metadata": {
            "needs_background": "light"
          }
        }
      ]
    },
    {
      "cell_type": "markdown",
      "source": [
        "##Question 4\n",
        "\n",
        "Display all the False Positive samples.Could a human recognize them correctly?. Get the index of all FP samples in ascending order. Enter the first index.\n",
        "\n",
        "**Ans: 2167**"
      ],
      "metadata": {
        "id": "rYht1yjzKFjC"
      }
    },
    {
      "cell_type": "code",
      "source": [
        "all_ne_idx = np.where(y_train_69 == 0)\n",
        "pp_idx = np.where(y_pred == 1)\n",
        "fp_idx = np.intersect1d(all_ne_idx, pp_idx)\n",
        "print(fp_idx)"
      ],
      "metadata": {
        "colab": {
          "base_uri": "https://localhost:8080/"
        },
        "id": "3G3xqHeOJhHt",
        "outputId": "a3746585-6e18-41a1-a780-f48052fac053"
      },
      "execution_count": null,
      "outputs": [
        {
          "output_type": "stream",
          "name": "stdout",
          "text": [
            "[2167 2407 3036 3368 4217 5556 6230]\n"
          ]
        }
      ]
    },
    {
      "cell_type": "code",
      "source": [
        ""
      ],
      "metadata": {
        "id": "TveJPOkHJ8xN"
      },
      "execution_count": null,
      "outputs": []
    },
    {
      "cell_type": "markdown",
      "source": [
        "##Question 5\n",
        "\n",
        "Load '20newsgroups' data.\n",
        " \n",
        "Vectorize the data using TfidfVectorizer. What is the shape of X?\n",
        "\n",
        "(11310, 130507)\n",
        "\n",
        "(21314, 190807)\n",
        "\n",
        "(11514, 160107)\n",
        "\n",
        "(11314, 130107)\n",
        "\n",
        "**Ans: (11314, 130107)**"
      ],
      "metadata": {
        "id": "T3Q3pcilKaH7"
      }
    },
    {
      "cell_type": "code",
      "source": [
        "from sklearn.datasets import fetch_20newsgroups\n",
        "from sklearn.feature_extraction.text import TfidfVectorizer"
      ],
      "metadata": {
        "id": "Ot3vkv1XKkAJ"
      },
      "execution_count": null,
      "outputs": []
    },
    {
      "cell_type": "code",
      "source": [
        "X, y = fetch_20newsgroups(return_X_y=True)"
      ],
      "metadata": {
        "id": "G2u1-9f2LEHG"
      },
      "execution_count": null,
      "outputs": []
    },
    {
      "cell_type": "code",
      "source": [
        "vect = TfidfVectorizer()\n",
        "X = vect.fit_transform(X)\n",
        "X.shape"
      ],
      "metadata": {
        "colab": {
          "base_uri": "https://localhost:8080/"
        },
        "id": "GQZXWz7SMU8z",
        "outputId": "70651f8b-2a8c-4b05-a1dd-bc4922204f73"
      },
      "execution_count": null,
      "outputs": [
        {
          "output_type": "execute_result",
          "data": {
            "text/plain": [
              "(11314, 130107)"
            ]
          },
          "metadata": {},
          "execution_count": 122
        }
      ]
    },
    {
      "cell_type": "markdown",
      "source": [
        "##Question 6\n",
        "Split the data into train and test using train_test_split with test_size = 0.3 and random_state = 0.\n",
        "\n",
        "Use MultinomialNB to train the model.\n",
        "\n",
        "Compute test score."
      ],
      "metadata": {
        "id": "PqDz4O9sSVNr"
      }
    },
    {
      "cell_type": "code",
      "source": [
        "from sklearn.model_selection import train_test_split\n",
        "from sklearn.naive_bayes import MultinomialNB"
      ],
      "metadata": {
        "id": "Dd6mLqHtMs_5"
      },
      "execution_count": null,
      "outputs": []
    },
    {
      "cell_type": "code",
      "source": [
        "X_tr, X_te, y_tr, y_te = train_test_split(X, y , test_size = 0.3, random_state = 0)"
      ],
      "metadata": {
        "id": "gNIe03BdkJ8V"
      },
      "execution_count": null,
      "outputs": []
    },
    {
      "cell_type": "code",
      "source": [
        "mlt = MultinomialNB()\n",
        "clf = mlt.fit(X_tr, y_tr)\n",
        "print(clf.score(X_te, y_te))"
      ],
      "metadata": {
        "colab": {
          "base_uri": "https://localhost:8080/"
        },
        "id": "iqaHg-fska-B",
        "outputId": "24424ea3-53ee-476b-8993-8ee0985981ed"
      },
      "execution_count": null,
      "outputs": [
        {
          "output_type": "stream",
          "name": "stdout",
          "text": [
            "0.8427098674521355\n"
          ]
        }
      ]
    },
    {
      "cell_type": "code",
      "source": [
        ""
      ],
      "metadata": {
        "id": "hmU2xlQ7kt9_"
      },
      "execution_count": null,
      "outputs": []
    }
  ]
}