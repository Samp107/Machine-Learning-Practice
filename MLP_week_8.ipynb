{
  "nbformat": 4,
  "nbformat_minor": 0,
  "metadata": {
    "colab": {
      "name": "MLP_week_8.ipynb",
      "provenance": [],
      "authorship_tag": "ABX9TyMjsIcYGKcFYNHqIUgksvN/",
      "include_colab_link": true
    },
    "kernelspec": {
      "name": "python3",
      "display_name": "Python 3"
    },
    "language_info": {
      "name": "python"
    }
  },
  "cells": [
    {
      "cell_type": "markdown",
      "metadata": {
        "id": "view-in-github",
        "colab_type": "text"
      },
      "source": [
        "<a href=\"https://colab.research.google.com/github/samapatil1729/Machine-Learning-Practice/blob/main/MLP_week_8.ipynb\" target=\"_parent\"><img src=\"https://colab.research.google.com/assets/colab-badge.svg\" alt=\"Open In Colab\"/></a>"
      ]
    },
    {
      "cell_type": "markdown",
      "source": [
        "#**Practice Assignment 8**"
      ],
      "metadata": {
        "id": "ssw7xAd-BeCI"
      }
    },
    {
      "cell_type": "markdown",
      "source": [
        "Write a function \n",
        "\n",
        "\n",
        "compute_score(X_train, y_train, X_test, y_test)\n",
        "\n",
        "to do the following on the \n",
        "\n",
        "Iris dataset-\n",
        "\n",
        "Write your code keeping in mind:\n",
        "\n",
        "Split the Iris dataset into train and test set with 70:30 ratio\n",
        "\n",
        "Import svm.SVC as 'model'\n",
        "\n",
        "kernel as 'rbf', \n",
        "regularization parameter as 20 and \n",
        "\n",
        "gamma as 'auto'\n",
        "\n",
        "random_state=42\n",
        "\n",
        "Train the model using trining data and predict the computed model's score using test data."
      ],
      "metadata": {
        "id": "mpM7kfcOBtaX"
      }
    },
    {
      "cell_type": "code",
      "source": [
        "import numpy as np\n",
        "import pandas as pd\n",
        "from sklearn.datasets import load_iris\n",
        "from sklearn.model_selection import train_test_split\n",
        "from sklearn.svm import SVC\n",
        "from sklearn.metrics import accuracy_score\n",
        "np.random.seed(42)\n"
      ],
      "metadata": {
        "id": "MzQ3FiqpBjiZ"
      },
      "execution_count": null,
      "outputs": []
    },
    {
      "cell_type": "markdown",
      "source": [
        "##Question 1\n",
        "\n",
        "Which of the following options is the computed score?\n",
        "\n",
        "\n",
        "\n",
        "-1.0\n",
        "\n",
        "-0.5\n",
        "\n",
        "1.0\n",
        "\n",
        "0.5\n",
        "\n",
        "**Ans: 1.0**"
      ],
      "metadata": {
        "id": "O9nZqYvjIncP"
      }
    },
    {
      "cell_type": "code",
      "source": [
        "def compute_score(X_train, y_train, X_test, y_test):\n",
        "  svc = SVC(gamma = 'auto', kernel='rbf', C = 20)\n",
        "  clf = svc.fit(X_train, y_train)\n",
        "  y_pred = clf.predict(X_test)\n",
        "  print(f'Computed Score is {clf.score(X_test, y_test)}')"
      ],
      "metadata": {
        "id": "4_6td8b5C9aq"
      },
      "execution_count": null,
      "outputs": []
    },
    {
      "cell_type": "code",
      "source": [
        "X, y = load_iris(as_frame = True, return_X_y = True)"
      ],
      "metadata": {
        "id": "-StGtpDBCQ58"
      },
      "execution_count": null,
      "outputs": []
    },
    {
      "cell_type": "code",
      "source": [
        "X_tr, X_te, y_tr, y_te = train_test_split(X, y, test_size = 0.3)"
      ],
      "metadata": {
        "id": "i1_AuTo7CdOP"
      },
      "execution_count": null,
      "outputs": []
    },
    {
      "cell_type": "code",
      "source": [
        "compute_score(X_tr, y_tr, X_te, y_te)"
      ],
      "metadata": {
        "colab": {
          "base_uri": "https://localhost:8080/"
        },
        "id": "X5x8dwqAGDer",
        "outputId": "2922e0c6-3142-432f-b0eb-1b5d0afad975"
      },
      "execution_count": null,
      "outputs": [
        {
          "output_type": "stream",
          "name": "stdout",
          "text": [
            "Computed Score is 1.0\n"
          ]
        }
      ]
    },
    {
      "cell_type": "markdown",
      "source": [
        "##Question 2\n",
        "\n",
        "\n",
        "1 point\n",
        "In 'Question 1', apply a pipeline containing a MinMaxScaler()function calledScaler and a svm.svc() called classifierwith the parameters : kernel='linear', decision_function_shape='ovr', C=1, class_weight=None. Calculate the precision value and f1 score and mark the correct option from the list below.\n",
        "\n",
        "1.0, 1.0\n",
        "\n",
        "0.8, 0.8\n",
        "\n",
        "0.99, 0.99\n",
        "\n",
        "0.97, 0.87\n",
        "\n",
        "**Ans: 1.0, 1.0**"
      ],
      "metadata": {
        "id": "_ffLTOhgI0s3"
      }
    },
    {
      "cell_type": "code",
      "source": [
        "from sklearn.preprocessing import MinMaxScaler\n",
        "from sklearn.pipeline import make_pipeline\n",
        "from sklearn.metrics import f1_score, precision_score"
      ],
      "metadata": {
        "id": "hu0wCw2tGzaM"
      },
      "execution_count": null,
      "outputs": []
    },
    {
      "cell_type": "code",
      "source": [
        "pipe = make_pipeline(MinMaxScaler(), SVC(kernel='linear', decision_function_shape='ovr', C=1, class_weight=None))\n",
        "clf = pipe.fit(X_tr, y_tr)\n",
        "y_pred = clf.predict(X_te)"
      ],
      "metadata": {
        "id": "PPjUQ5aYJk-w"
      },
      "execution_count": null,
      "outputs": []
    },
    {
      "cell_type": "code",
      "source": [
        "print('precision Score:', precision_score(y_te, y_pred, average='micro'))\n",
        "print('f1 score: ', f1_score(y_te, y_pred, average='micro'))"
      ],
      "metadata": {
        "id": "KW5_GeshKHA8",
        "colab": {
          "base_uri": "https://localhost:8080/"
        },
        "outputId": "3f55671e-bb70-4752-df3c-9370cb4e279a"
      },
      "execution_count": null,
      "outputs": [
        {
          "output_type": "stream",
          "name": "stdout",
          "text": [
            "precision Score: 1.0\n",
            "f1 score:  1.0\n"
          ]
        }
      ]
    },
    {
      "cell_type": "markdown",
      "source": [
        "##Question 3\n",
        "\n",
        "Import the `iris` dataset and drop the rows where `class=Iris-versicolor`. Apply a pipeline containing a `MinMaxScaler()`function called`Scaler` and a `svm.svc()` called `classifier`. Split the `iris` dataset into 50:50 ratio with `random_state=0`. Mark the correct recall value from the given options.\n",
        "\n",
        "(a) 1.00\n",
        "\n",
        "(b) 0.22\n",
        "\n",
        "(C) 0.96\n",
        "\n",
        "(d) 2.33\n",
        "\n",
        "**Option a**"
      ],
      "metadata": {
        "id": "CE2bjwWNTUej"
      }
    },
    {
      "cell_type": "code",
      "source": [
        "from sklearn.datasets import load_iris\n",
        "df = load_iris(as_frame = True)\n",
        "df1 = pd.DataFrame(df.data)\n",
        "df1['classes'] = df['target']"
      ],
      "metadata": {
        "id": "55kyey0fTjLt"
      },
      "execution_count": null,
      "outputs": []
    },
    {
      "cell_type": "code",
      "source": [
        "df1.head()"
      ],
      "metadata": {
        "colab": {
          "base_uri": "https://localhost:8080/",
          "height": 206
        },
        "id": "8nP6cBwYUHnF",
        "outputId": "0f6333c7-a062-43f4-8d06-7ef5ae0b73ad"
      },
      "execution_count": null,
      "outputs": [
        {
          "output_type": "execute_result",
          "data": {
            "text/plain": [
              "   sepal length (cm)  sepal width (cm)  petal length (cm)  petal width (cm)  \\\n",
              "0                5.1               3.5                1.4               0.2   \n",
              "1                4.9               3.0                1.4               0.2   \n",
              "2                4.7               3.2                1.3               0.2   \n",
              "3                4.6               3.1                1.5               0.2   \n",
              "4                5.0               3.6                1.4               0.2   \n",
              "\n",
              "   classes  \n",
              "0        0  \n",
              "1        0  \n",
              "2        0  \n",
              "3        0  \n",
              "4        0  "
            ],
            "text/html": [
              "\n",
              "  <div id=\"df-ba76c61d-d023-4951-aec1-08c8fc746d4b\">\n",
              "    <div class=\"colab-df-container\">\n",
              "      <div>\n",
              "<style scoped>\n",
              "    .dataframe tbody tr th:only-of-type {\n",
              "        vertical-align: middle;\n",
              "    }\n",
              "\n",
              "    .dataframe tbody tr th {\n",
              "        vertical-align: top;\n",
              "    }\n",
              "\n",
              "    .dataframe thead th {\n",
              "        text-align: right;\n",
              "    }\n",
              "</style>\n",
              "<table border=\"1\" class=\"dataframe\">\n",
              "  <thead>\n",
              "    <tr style=\"text-align: right;\">\n",
              "      <th></th>\n",
              "      <th>sepal length (cm)</th>\n",
              "      <th>sepal width (cm)</th>\n",
              "      <th>petal length (cm)</th>\n",
              "      <th>petal width (cm)</th>\n",
              "      <th>classes</th>\n",
              "    </tr>\n",
              "  </thead>\n",
              "  <tbody>\n",
              "    <tr>\n",
              "      <th>0</th>\n",
              "      <td>5.1</td>\n",
              "      <td>3.5</td>\n",
              "      <td>1.4</td>\n",
              "      <td>0.2</td>\n",
              "      <td>0</td>\n",
              "    </tr>\n",
              "    <tr>\n",
              "      <th>1</th>\n",
              "      <td>4.9</td>\n",
              "      <td>3.0</td>\n",
              "      <td>1.4</td>\n",
              "      <td>0.2</td>\n",
              "      <td>0</td>\n",
              "    </tr>\n",
              "    <tr>\n",
              "      <th>2</th>\n",
              "      <td>4.7</td>\n",
              "      <td>3.2</td>\n",
              "      <td>1.3</td>\n",
              "      <td>0.2</td>\n",
              "      <td>0</td>\n",
              "    </tr>\n",
              "    <tr>\n",
              "      <th>3</th>\n",
              "      <td>4.6</td>\n",
              "      <td>3.1</td>\n",
              "      <td>1.5</td>\n",
              "      <td>0.2</td>\n",
              "      <td>0</td>\n",
              "    </tr>\n",
              "    <tr>\n",
              "      <th>4</th>\n",
              "      <td>5.0</td>\n",
              "      <td>3.6</td>\n",
              "      <td>1.4</td>\n",
              "      <td>0.2</td>\n",
              "      <td>0</td>\n",
              "    </tr>\n",
              "  </tbody>\n",
              "</table>\n",
              "</div>\n",
              "      <button class=\"colab-df-convert\" onclick=\"convertToInteractive('df-ba76c61d-d023-4951-aec1-08c8fc746d4b')\"\n",
              "              title=\"Convert this dataframe to an interactive table.\"\n",
              "              style=\"display:none;\">\n",
              "        \n",
              "  <svg xmlns=\"http://www.w3.org/2000/svg\" height=\"24px\"viewBox=\"0 0 24 24\"\n",
              "       width=\"24px\">\n",
              "    <path d=\"M0 0h24v24H0V0z\" fill=\"none\"/>\n",
              "    <path d=\"M18.56 5.44l.94 2.06.94-2.06 2.06-.94-2.06-.94-.94-2.06-.94 2.06-2.06.94zm-11 1L8.5 8.5l.94-2.06 2.06-.94-2.06-.94L8.5 2.5l-.94 2.06-2.06.94zm10 10l.94 2.06.94-2.06 2.06-.94-2.06-.94-.94-2.06-.94 2.06-2.06.94z\"/><path d=\"M17.41 7.96l-1.37-1.37c-.4-.4-.92-.59-1.43-.59-.52 0-1.04.2-1.43.59L10.3 9.45l-7.72 7.72c-.78.78-.78 2.05 0 2.83L4 21.41c.39.39.9.59 1.41.59.51 0 1.02-.2 1.41-.59l7.78-7.78 2.81-2.81c.8-.78.8-2.07 0-2.86zM5.41 20L4 18.59l7.72-7.72 1.47 1.35L5.41 20z\"/>\n",
              "  </svg>\n",
              "      </button>\n",
              "      \n",
              "  <style>\n",
              "    .colab-df-container {\n",
              "      display:flex;\n",
              "      flex-wrap:wrap;\n",
              "      gap: 12px;\n",
              "    }\n",
              "\n",
              "    .colab-df-convert {\n",
              "      background-color: #E8F0FE;\n",
              "      border: none;\n",
              "      border-radius: 50%;\n",
              "      cursor: pointer;\n",
              "      display: none;\n",
              "      fill: #1967D2;\n",
              "      height: 32px;\n",
              "      padding: 0 0 0 0;\n",
              "      width: 32px;\n",
              "    }\n",
              "\n",
              "    .colab-df-convert:hover {\n",
              "      background-color: #E2EBFA;\n",
              "      box-shadow: 0px 1px 2px rgba(60, 64, 67, 0.3), 0px 1px 3px 1px rgba(60, 64, 67, 0.15);\n",
              "      fill: #174EA6;\n",
              "    }\n",
              "\n",
              "    [theme=dark] .colab-df-convert {\n",
              "      background-color: #3B4455;\n",
              "      fill: #D2E3FC;\n",
              "    }\n",
              "\n",
              "    [theme=dark] .colab-df-convert:hover {\n",
              "      background-color: #434B5C;\n",
              "      box-shadow: 0px 1px 3px 1px rgba(0, 0, 0, 0.15);\n",
              "      filter: drop-shadow(0px 1px 2px rgba(0, 0, 0, 0.3));\n",
              "      fill: #FFFFFF;\n",
              "    }\n",
              "  </style>\n",
              "\n",
              "      <script>\n",
              "        const buttonEl =\n",
              "          document.querySelector('#df-ba76c61d-d023-4951-aec1-08c8fc746d4b button.colab-df-convert');\n",
              "        buttonEl.style.display =\n",
              "          google.colab.kernel.accessAllowed ? 'block' : 'none';\n",
              "\n",
              "        async function convertToInteractive(key) {\n",
              "          const element = document.querySelector('#df-ba76c61d-d023-4951-aec1-08c8fc746d4b');\n",
              "          const dataTable =\n",
              "            await google.colab.kernel.invokeFunction('convertToInteractive',\n",
              "                                                     [key], {});\n",
              "          if (!dataTable) return;\n",
              "\n",
              "          const docLinkHtml = 'Like what you see? Visit the ' +\n",
              "            '<a target=\"_blank\" href=https://colab.research.google.com/notebooks/data_table.ipynb>data table notebook</a>'\n",
              "            + ' to learn more about interactive tables.';\n",
              "          element.innerHTML = '';\n",
              "          dataTable['output_type'] = 'display_data';\n",
              "          await google.colab.output.renderOutput(dataTable, element);\n",
              "          const docLink = document.createElement('div');\n",
              "          docLink.innerHTML = docLinkHtml;\n",
              "          element.appendChild(docLink);\n",
              "        }\n",
              "      </script>\n",
              "    </div>\n",
              "  </div>\n",
              "  "
            ]
          },
          "metadata": {},
          "execution_count": 131
        }
      ]
    },
    {
      "cell_type": "code",
      "source": [
        "id = np.where(df1['classes'] == 1)\n",
        "\n",
        "id"
      ],
      "metadata": {
        "colab": {
          "base_uri": "https://localhost:8080/"
        },
        "id": "OTtFh0z4bqDl",
        "outputId": "2a9c91a2-1f9c-4a19-a13c-6ef9405717ec"
      },
      "execution_count": null,
      "outputs": [
        {
          "output_type": "execute_result",
          "data": {
            "text/plain": [
              "(array([50, 51, 52, 53, 54, 55, 56, 57, 58, 59, 60, 61, 62, 63, 64, 65, 66,\n",
              "        67, 68, 69, 70, 71, 72, 73, 74, 75, 76, 77, 78, 79, 80, 81, 82, 83,\n",
              "        84, 85, 86, 87, 88, 89, 90, 91, 92, 93, 94, 95, 96, 97, 98, 99]),)"
            ]
          },
          "metadata": {},
          "execution_count": 144
        }
      ]
    },
    {
      "cell_type": "code",
      "source": [
        "df2 = df1.drop(index = [50, 51, 52, 53, 54, 55, 56, 57, 58, 59, 60, 61, 62, 63, 64, 65, 66,\n",
        "        67, 68, 69, 70, 71, 72, 73, 74, 75, 76, 77, 78, 79, 80, 81, 82, 83,\n",
        "        84, 85, 86, 87, 88, 89, 90, 91, 92, 93, 94, 95, 96, 97, 98, 99])"
      ],
      "metadata": {
        "id": "49Lvzu6DcF0b"
      },
      "execution_count": null,
      "outputs": []
    },
    {
      "cell_type": "code",
      "source": [
        "df2['classes'].value_counts()"
      ],
      "metadata": {
        "colab": {
          "base_uri": "https://localhost:8080/"
        },
        "id": "ApvNASh4gj-3",
        "outputId": "cfd9a04e-233b-4aa6-aede-79be6de01374"
      },
      "execution_count": null,
      "outputs": [
        {
          "output_type": "execute_result",
          "data": {
            "text/plain": [
              "0    50\n",
              "2    50\n",
              "Name: classes, dtype: int64"
            ]
          },
          "metadata": {},
          "execution_count": 148
        }
      ]
    },
    {
      "cell_type": "code",
      "source": [
        "df2.shape"
      ],
      "metadata": {
        "colab": {
          "base_uri": "https://localhost:8080/"
        },
        "id": "bfvf02sCg4pe",
        "outputId": "64a5377d-28e5-4d4c-e2b7-41b79c35b28e"
      },
      "execution_count": null,
      "outputs": [
        {
          "output_type": "execute_result",
          "data": {
            "text/plain": [
              "(100, 5)"
            ]
          },
          "metadata": {},
          "execution_count": 149
        }
      ]
    },
    {
      "cell_type": "code",
      "source": [
        "X = df2.iloc[:,:-1]\n",
        "y = y = df2.iloc[:,-1].values"
      ],
      "metadata": {
        "id": "Ijpi7fv-hFxS"
      },
      "execution_count": null,
      "outputs": []
    },
    {
      "cell_type": "code",
      "source": [
        "X_train, X_test, y_train, y_test = train_test_split(X, y, test_size = 0.5, random_state = 0)"
      ],
      "metadata": {
        "id": "C8vyPEU7hgAK"
      },
      "execution_count": null,
      "outputs": []
    },
    {
      "cell_type": "code",
      "source": [
        "from sklearn.metrics import recall_score"
      ],
      "metadata": {
        "id": "ewk3fOteik3A"
      },
      "execution_count": null,
      "outputs": []
    },
    {
      "cell_type": "code",
      "source": [
        "pipe = make_pipeline(MinMaxScaler(), SVC())\n",
        "pipe.fit(X_train, y_train)\n",
        "y_pred = pipe.predict(X_test)\n",
        "print('Recall: ', recall_score(y_test, y_pred, average='micro'))"
      ],
      "metadata": {
        "colab": {
          "base_uri": "https://localhost:8080/"
        },
        "id": "mG0TM70Bh8AG",
        "outputId": "38732878-4d2f-44e4-f414-11b70146ee48"
      },
      "execution_count": null,
      "outputs": [
        {
          "output_type": "stream",
          "name": "stdout",
          "text": [
            "Recall:  1.0\n"
          ]
        }
      ]
    },
    {
      "cell_type": "markdown",
      "source": [
        "##Question 4\n",
        "Write the function compute_score(X_train, y_train, X_test, y_test) to do the following on the Iris dataset-\n",
        "\n",
        "Write your code keeping in mind:\n",
        "\n",
        "Split the Iris dataset into train and test set with 70:30 ratio and random_state=42.\n",
        "Import sklearn.svm.LinearSVC as 'model'\n",
        "Consider loss function loss=hinge,random_state=42 and penalty=l2.\n",
        "Train the 'model' and mark the computed 'score'\n",
        "\n",
        "(a) 2.233333333333333\n",
        "\n",
        "(b)0.9777777777777777\n",
        "\n",
        "(c) 0.899999999999999\n",
        "\n",
        "(d) -2.23333333333333\n",
        "\n",
        "Option b"
      ],
      "metadata": {
        "id": "tLl1qWf6jllD"
      }
    },
    {
      "cell_type": "code",
      "source": [
        "from sklearn.svm import LinearSVC"
      ],
      "metadata": {
        "id": "WEFci2PDlBKk"
      },
      "execution_count": null,
      "outputs": []
    },
    {
      "cell_type": "code",
      "source": [
        "X, y = load_iris(as_frame = True, return_X_y = True)"
      ],
      "metadata": {
        "id": "kuoBOIw0iyXg"
      },
      "execution_count": null,
      "outputs": []
    },
    {
      "cell_type": "code",
      "source": [
        "X.shape, y.shape"
      ],
      "metadata": {
        "colab": {
          "base_uri": "https://localhost:8080/"
        },
        "id": "uvioinAXkGXD",
        "outputId": "6df3aabb-63d4-4041-e2a3-43a78841a46c"
      },
      "execution_count": null,
      "outputs": [
        {
          "output_type": "execute_result",
          "data": {
            "text/plain": [
              "((150, 4), (150,))"
            ]
          },
          "metadata": {},
          "execution_count": 158
        }
      ]
    },
    {
      "cell_type": "code",
      "source": [
        "X_tr, X_te, y_tr, y_te = train_test_split(X, y, test_size = 0.3, random_state = 42)"
      ],
      "metadata": {
        "id": "aF3wqVDikJKH"
      },
      "execution_count": null,
      "outputs": []
    },
    {
      "cell_type": "code",
      "source": [
        "def compute_score(X_train, y_train, X_test, y_test):\n",
        "  model = LinearSVC(loss = 'hinge', penalty = 'l2', random_state = 42)\n",
        "  model.fit(X_tr, y_tr)\n",
        "  print('Computed Score:', model.score(X_te, y_te))"
      ],
      "metadata": {
        "id": "CqLFr1lfkgeO"
      },
      "execution_count": null,
      "outputs": []
    },
    {
      "cell_type": "code",
      "source": [
        "compute_score(X_tr, y_tr, X_te, y_te)"
      ],
      "metadata": {
        "colab": {
          "base_uri": "https://localhost:8080/"
        },
        "id": "IOclr8kml3Gu",
        "outputId": "5b77ddca-01a3-4959-fea2-896d65de8378"
      },
      "execution_count": null,
      "outputs": [
        {
          "output_type": "stream",
          "name": "stdout",
          "text": [
            "Computed Score: 0.9777777777777777\n"
          ]
        },
        {
          "output_type": "stream",
          "name": "stderr",
          "text": [
            "/usr/local/lib/python3.7/dist-packages/sklearn/svm/_base.py:1208: ConvergenceWarning: Liblinear failed to converge, increase the number of iterations.\n",
            "  ConvergenceWarning,\n"
          ]
        }
      ]
    },
    {
      "cell_type": "markdown",
      "source": [
        "#Question 5\n",
        "\n",
        "Write a function `hyperparameter_search`which accepts the Kernel and regularization parameter as inputs and returns the `avg_score`of the models with the below mentioned hyperparameters. \n",
        "- Split the Iris dataset into train and test set with 70:30 ratio \n",
        "- kernels = `['linear', 'rbf']`\n",
        "- Regularization `C = [5, 10,100]`\n",
        "- Cross Validation = 10\n",
        "-`random_state=42`\n",
        "\n",
        "Which of the following options give the `accuracy_score` for the `iris dataset`?\n",
        "\n",
        "(a) -1\n",
        "\n",
        "(b) -2\n",
        "\n",
        "(c) 1\n",
        "\n",
        "(d) 0.8\n",
        "\n",
        "**Option C**"
      ],
      "metadata": {
        "id": "f8TM0eHGmeuW"
      }
    },
    {
      "cell_type": "code",
      "source": [
        "from sklearn.model_selection import GridSearchCV\n",
        "from sklearn.svm import SVC\n",
        "from sklearn.metrics import accuracy_score\n",
        "from sklearn.datasets import load_iris"
      ],
      "metadata": {
        "id": "mQ4SFT0YpTD_"
      },
      "execution_count": null,
      "outputs": []
    },
    {
      "cell_type": "code",
      "source": [
        "X, y = load_iris(as_frame = True, return_X_y = True)\n",
        "X_train, X_test, y_train, y_test = train_test_split(X, y, test_size = 0.3, random_state=42)"
      ],
      "metadata": {
        "id": "Uc8TnV1CtZJq"
      },
      "execution_count": null,
      "outputs": []
    },
    {
      "cell_type": "code",
      "source": [
        "parameters = {'kernel':('linear', 'rbf'), 'C':[5, 10, 100]}\n",
        "\n",
        "def hyperparamater_search(params):\n",
        "  cv = GridSearchCV(estimator = SVC(random_state = 42), param_grid = params, cv = 10 )\n",
        "  cv.fit(X, y)\n",
        "  print(cv.best_score_)\n",
        "  print(cv.best_params_)"
      ],
      "metadata": {
        "id": "c5QfqNfHnOE_"
      },
      "execution_count": null,
      "outputs": []
    },
    {
      "cell_type": "code",
      "source": [
        "hyperparamater_search(parameters)"
      ],
      "metadata": {
        "colab": {
          "base_uri": "https://localhost:8080/"
        },
        "id": "Bv0S4yYYpf9q",
        "outputId": "840ea28a-f15e-4ebe-ab22-36428d1f5ef6"
      },
      "execution_count": null,
      "outputs": [
        {
          "output_type": "stream",
          "name": "stdout",
          "text": [
            "0.9636363636363636\n",
            "{'C': 5, 'kernel': 'linear'}\n"
          ]
        }
      ]
    },
    {
      "cell_type": "markdown",
      "source": [
        "#**Graded Assignment - 8**"
      ],
      "metadata": {
        "id": "xieWI1lfxko0"
      }
    },
    {
      "cell_type": "markdown",
      "source": [
        "##Question 1\n",
        "\n",
        "Write a function `compute_GridSearchCV` which accepts the Kernel and regularization parameters as inputs and returns the Mean cross-validated score of the best_estimator, denoted with `best_score_` of the models with the below mentioned hyperparameters:\n",
        "- Split the Iris dataset into train and test set with 70:30 ratio \n",
        "- Import svm.SVC as 'model'\n",
        "- kernels = ['linear' , 'rbf']\n",
        "- Regularization = [1,15,25]\n",
        "- gamma = 'auto'\n",
        "- Cross Validation = 4\n",
        "- `random_state=0`\n",
        "\n",
        "(a) 0.9799075391180654\n",
        "\n",
        "(b) 0.8182475236540654\n",
        "\n",
        "(c) 0.7999999995540654\n",
        "\n",
        "(d) 0.1111111122223444\n",
        "\n",
        "\n",
        "**(Option a)**"
      ],
      "metadata": {
        "id": "7movcI_OxpCY"
      }
    },
    {
      "cell_type": "code",
      "source": [
        "import numpy as np\n",
        "import pandas as pd\n",
        "from sklearn import svm, datasets\n",
        "iris = datasets.load_iris()\n",
        "np.random.seed(42)\n",
        "from sklearn.model_selection import GridSearchCV\n",
        "from sklearn.model_selection import train_test_split\n",
        "X_train, X_test, y_train, y_test = train_test_split(iris.data, iris.target, test_size=0.3,random_state = 0)"
      ],
      "metadata": {
        "id": "hRjLcT1ixokT"
      },
      "execution_count": null,
      "outputs": []
    },
    {
      "cell_type": "code",
      "source": [
        "def COMPUTE_GridSearchCV(kernels, C):\n",
        "     clf = GridSearchCV(svm.SVC(gamma='auto'), {'C': C, 'kernel': kernels},\n",
        "                        cv=4, return_train_score=False)\n",
        "     clf.fit(iris.data, iris.target)\n",
        "     print(clf.best_score_)\n",
        "     print(clf.best_params_)"
      ],
      "metadata": {
        "id": "Mplq7YYzycD6"
      },
      "execution_count": null,
      "outputs": []
    },
    {
      "cell_type": "code",
      "source": [
        "kernels = ['linear', 'rbf']\n",
        "C = [1,15,25]\n",
        "COMPUTE_GridSearchCV(kernels, C)"
      ],
      "metadata": {
        "colab": {
          "base_uri": "https://localhost:8080/"
        },
        "id": "mVg_C5hjzS19",
        "outputId": "14096d27-8d41-48ba-e4da-bcda3b3326fc"
      },
      "execution_count": null,
      "outputs": [
        {
          "output_type": "stream",
          "name": "stdout",
          "text": [
            "0.9799075391180654\n",
            "{'C': 1, 'kernel': 'linear'}\n"
          ]
        }
      ]
    },
    {
      "cell_type": "code",
      "source": [
        ""
      ],
      "metadata": {
        "id": "5lWVsknIzczQ"
      },
      "execution_count": null,
      "outputs": []
    },
    {
      "cell_type": "markdown",
      "source": [
        "## Question 2 and 3\n",
        "\n",
        "**Read the instructions given below to answer the two questions given below.**\n",
        "\n",
        "Split the `Social_Network_Ads` dataset (https://drive.google.com/file/d/1qUa1GlG4X4ZY_4E0e7jPR-z7AG7NIDbE/view?usp=sharing) into training and test set in 75:25 ratio.\n",
        "- Fit and transform the train and test set of the feature matrix by applying `StandardScaler` transformer.\n",
        "- Fit a linear SVM (with `random_state = 0`and `linear` kernel) to training data. \n",
        "\n",
        "**Question 2**\n",
        "\n",
        "The predicted data returns an `accuracy_score` on test data. Which of the following option represents the calculated `accuracy_score`?\n",
        "\n",
        "(a) 0.88\n",
        "\n",
        "(b) 0.99\n",
        "\n",
        "(c) 0.77\n",
        "\n",
        "(d)1.20\n",
        "\n",
        "**Option a**\n",
        "\n",
        "**Question 3**\n",
        "\n",
        "Calculate the confusion matrix obtained  from the above predicted data.\n",
        "\n",
        "(a) [[5  63]\n",
        " [ 7 25]]\n",
        "\n",
        "(b) [[63  5]\n",
        " [ 7 25]]\n",
        "\n",
        "(c) [[63  5]\n",
        " [ 25 7]]\n",
        "\n",
        "(d) [[5  63]\n",
        " [ 25 7]]\n",
        "\n",
        "**Option b**"
      ],
      "metadata": {
        "id": "qo2_XlyU1xzG"
      }
    },
    {
      "cell_type": "code",
      "source": [
        "import numpy as np\n",
        "import matplotlib.pyplot as plt\n",
        "import pandas as pd\n",
        "np.random.seed(42)\n",
        "from sklearn.pipeline import make_pipeline\n",
        "from sklearn.preprocessing import StandardScaler\n",
        "from sklearn.svm import SVC\n",
        "from sklearn.metrics import confusion_matrix, accuracy_score"
      ],
      "metadata": {
        "id": "DO-8Jaeu3PWr"
      },
      "execution_count": null,
      "outputs": []
    },
    {
      "cell_type": "code",
      "source": [
        "data = pd.read_csv('Social_Network_Ads.csv')\n"
      ],
      "metadata": {
        "id": "zA8CB_Ie1zwb"
      },
      "execution_count": null,
      "outputs": []
    },
    {
      "cell_type": "code",
      "source": [
        "data.shape"
      ],
      "metadata": {
        "colab": {
          "base_uri": "https://localhost:8080/"
        },
        "id": "_-ZDnzdh2HrQ",
        "outputId": "9ab3069a-cb21-4a57-f3c0-e5d92c0b552c"
      },
      "execution_count": null,
      "outputs": [
        {
          "output_type": "execute_result",
          "data": {
            "text/plain": [
              "(400, 3)"
            ]
          },
          "metadata": {},
          "execution_count": 317
        }
      ]
    },
    {
      "cell_type": "code",
      "source": [
        "data.head()"
      ],
      "metadata": {
        "colab": {
          "base_uri": "https://localhost:8080/",
          "height": 206
        },
        "id": "dTOdcRmT2JsK",
        "outputId": "cb3ab28b-418c-4697-f5ef-53110cfd4d95"
      },
      "execution_count": null,
      "outputs": [
        {
          "output_type": "execute_result",
          "data": {
            "text/plain": [
              "   Age  EstimatedSalary  Purchased\n",
              "0   19            19000          0\n",
              "1   35            20000          0\n",
              "2   26            43000          0\n",
              "3   27            57000          0\n",
              "4   19            76000          0"
            ],
            "text/html": [
              "\n",
              "  <div id=\"df-b0120da6-ef1f-4529-8a1a-17e56c90f1fb\">\n",
              "    <div class=\"colab-df-container\">\n",
              "      <div>\n",
              "<style scoped>\n",
              "    .dataframe tbody tr th:only-of-type {\n",
              "        vertical-align: middle;\n",
              "    }\n",
              "\n",
              "    .dataframe tbody tr th {\n",
              "        vertical-align: top;\n",
              "    }\n",
              "\n",
              "    .dataframe thead th {\n",
              "        text-align: right;\n",
              "    }\n",
              "</style>\n",
              "<table border=\"1\" class=\"dataframe\">\n",
              "  <thead>\n",
              "    <tr style=\"text-align: right;\">\n",
              "      <th></th>\n",
              "      <th>Age</th>\n",
              "      <th>EstimatedSalary</th>\n",
              "      <th>Purchased</th>\n",
              "    </tr>\n",
              "  </thead>\n",
              "  <tbody>\n",
              "    <tr>\n",
              "      <th>0</th>\n",
              "      <td>19</td>\n",
              "      <td>19000</td>\n",
              "      <td>0</td>\n",
              "    </tr>\n",
              "    <tr>\n",
              "      <th>1</th>\n",
              "      <td>35</td>\n",
              "      <td>20000</td>\n",
              "      <td>0</td>\n",
              "    </tr>\n",
              "    <tr>\n",
              "      <th>2</th>\n",
              "      <td>26</td>\n",
              "      <td>43000</td>\n",
              "      <td>0</td>\n",
              "    </tr>\n",
              "    <tr>\n",
              "      <th>3</th>\n",
              "      <td>27</td>\n",
              "      <td>57000</td>\n",
              "      <td>0</td>\n",
              "    </tr>\n",
              "    <tr>\n",
              "      <th>4</th>\n",
              "      <td>19</td>\n",
              "      <td>76000</td>\n",
              "      <td>0</td>\n",
              "    </tr>\n",
              "  </tbody>\n",
              "</table>\n",
              "</div>\n",
              "      <button class=\"colab-df-convert\" onclick=\"convertToInteractive('df-b0120da6-ef1f-4529-8a1a-17e56c90f1fb')\"\n",
              "              title=\"Convert this dataframe to an interactive table.\"\n",
              "              style=\"display:none;\">\n",
              "        \n",
              "  <svg xmlns=\"http://www.w3.org/2000/svg\" height=\"24px\"viewBox=\"0 0 24 24\"\n",
              "       width=\"24px\">\n",
              "    <path d=\"M0 0h24v24H0V0z\" fill=\"none\"/>\n",
              "    <path d=\"M18.56 5.44l.94 2.06.94-2.06 2.06-.94-2.06-.94-.94-2.06-.94 2.06-2.06.94zm-11 1L8.5 8.5l.94-2.06 2.06-.94-2.06-.94L8.5 2.5l-.94 2.06-2.06.94zm10 10l.94 2.06.94-2.06 2.06-.94-2.06-.94-.94-2.06-.94 2.06-2.06.94z\"/><path d=\"M17.41 7.96l-1.37-1.37c-.4-.4-.92-.59-1.43-.59-.52 0-1.04.2-1.43.59L10.3 9.45l-7.72 7.72c-.78.78-.78 2.05 0 2.83L4 21.41c.39.39.9.59 1.41.59.51 0 1.02-.2 1.41-.59l7.78-7.78 2.81-2.81c.8-.78.8-2.07 0-2.86zM5.41 20L4 18.59l7.72-7.72 1.47 1.35L5.41 20z\"/>\n",
              "  </svg>\n",
              "      </button>\n",
              "      \n",
              "  <style>\n",
              "    .colab-df-container {\n",
              "      display:flex;\n",
              "      flex-wrap:wrap;\n",
              "      gap: 12px;\n",
              "    }\n",
              "\n",
              "    .colab-df-convert {\n",
              "      background-color: #E8F0FE;\n",
              "      border: none;\n",
              "      border-radius: 50%;\n",
              "      cursor: pointer;\n",
              "      display: none;\n",
              "      fill: #1967D2;\n",
              "      height: 32px;\n",
              "      padding: 0 0 0 0;\n",
              "      width: 32px;\n",
              "    }\n",
              "\n",
              "    .colab-df-convert:hover {\n",
              "      background-color: #E2EBFA;\n",
              "      box-shadow: 0px 1px 2px rgba(60, 64, 67, 0.3), 0px 1px 3px 1px rgba(60, 64, 67, 0.15);\n",
              "      fill: #174EA6;\n",
              "    }\n",
              "\n",
              "    [theme=dark] .colab-df-convert {\n",
              "      background-color: #3B4455;\n",
              "      fill: #D2E3FC;\n",
              "    }\n",
              "\n",
              "    [theme=dark] .colab-df-convert:hover {\n",
              "      background-color: #434B5C;\n",
              "      box-shadow: 0px 1px 3px 1px rgba(0, 0, 0, 0.15);\n",
              "      filter: drop-shadow(0px 1px 2px rgba(0, 0, 0, 0.3));\n",
              "      fill: #FFFFFF;\n",
              "    }\n",
              "  </style>\n",
              "\n",
              "      <script>\n",
              "        const buttonEl =\n",
              "          document.querySelector('#df-b0120da6-ef1f-4529-8a1a-17e56c90f1fb button.colab-df-convert');\n",
              "        buttonEl.style.display =\n",
              "          google.colab.kernel.accessAllowed ? 'block' : 'none';\n",
              "\n",
              "        async function convertToInteractive(key) {\n",
              "          const element = document.querySelector('#df-b0120da6-ef1f-4529-8a1a-17e56c90f1fb');\n",
              "          const dataTable =\n",
              "            await google.colab.kernel.invokeFunction('convertToInteractive',\n",
              "                                                     [key], {});\n",
              "          if (!dataTable) return;\n",
              "\n",
              "          const docLinkHtml = 'Like what you see? Visit the ' +\n",
              "            '<a target=\"_blank\" href=https://colab.research.google.com/notebooks/data_table.ipynb>data table notebook</a>'\n",
              "            + ' to learn more about interactive tables.';\n",
              "          element.innerHTML = '';\n",
              "          dataTable['output_type'] = 'display_data';\n",
              "          await google.colab.output.renderOutput(dataTable, element);\n",
              "          const docLink = document.createElement('div');\n",
              "          docLink.innerHTML = docLinkHtml;\n",
              "          element.appendChild(docLink);\n",
              "        }\n",
              "      </script>\n",
              "    </div>\n",
              "  </div>\n",
              "  "
            ]
          },
          "metadata": {},
          "execution_count": 318
        }
      ]
    },
    {
      "cell_type": "code",
      "source": [
        "X = data.iloc[:, :-1].values\n",
        "y = data.iloc[:, -1].values"
      ],
      "metadata": {
        "id": "r37wM_3J3GNO"
      },
      "execution_count": null,
      "outputs": []
    },
    {
      "cell_type": "code",
      "source": [
        "from sklearn.model_selection import train_test_split\n",
        "X_train, X_test, y_train, y_test = train_test_split(X, y, test_size = 0.25, random_state = 0)"
      ],
      "metadata": {
        "id": "iSiiz2H63YzU"
      },
      "execution_count": null,
      "outputs": []
    },
    {
      "cell_type": "code",
      "source": [
        "from sklearn.preprocessing import StandardScaler\n",
        "sc = StandardScaler()\n",
        "X_train = sc.fit_transform(X_train)\n",
        "X_test = sc.fit_transform(X_test)"
      ],
      "metadata": {
        "id": "juxLKXdS3hFk"
      },
      "execution_count": null,
      "outputs": []
    },
    {
      "cell_type": "code",
      "source": [
        "pipe = make_pipeline(StandardScaler(), SVC(kernel = 'linear', random_state = 0))\n",
        "pipe.fit(X_train, y_train)\n",
        "y_pred = pipe.predict(X_test)\n",
        "print(accuracy_score(y_test, y_pred))\n",
        "print(confusion_matrix(y_test, y_pred))"
      ],
      "metadata": {
        "colab": {
          "base_uri": "https://localhost:8080/"
        },
        "id": "RtOP55rX3jGU",
        "outputId": "d1fb049a-94eb-4571-f60f-1bc3e719b13c"
      },
      "execution_count": null,
      "outputs": [
        {
          "output_type": "stream",
          "name": "stdout",
          "text": [
            "0.88\n",
            "[[63  5]\n",
            " [ 7 25]]\n"
          ]
        }
      ]
    },
    {
      "cell_type": "markdown",
      "source": [
        "##Questions 4 and 5\n",
        "\n",
        "**Question 4**\n",
        "\n",
        "From the MNIST dataset, consider the first 20,000 data samples as training data and the next 5,000 data samples as test data. Fit a pipeline with MinMaxScaler and a classifier with SVC, linear kernel, one vs rest decision_function_shape and `class_weight=None` to this dataset and answer the following questions.\n",
        "\n",
        "**What is the sum of the main diagonal elements of the confusion matrix?**\n",
        "\n",
        "(a) 4523\n",
        "\n",
        "(b) 4423\n",
        "\n",
        "(c) 4623\n",
        "\n",
        "(d) 4693\n",
        "\n",
        "**Option c**\n",
        "\n",
        "**Question 5**\n",
        "\n",
        "Which of the following are the correct values of precision, recall and f1_Score?\n",
        "\n",
        "(a) Precision: 0.90 \n",
        "Recall: 0.89 \n",
        "f1_Score: 0.90 \n",
        "\n",
        "(b) Precision: 0.99 \n",
        "Recall: 0.99 \n",
        "f1_Score: 0.99 \n",
        "\n",
        "(c) Precision: 0.92 \n",
        "Recall: 0.92 \n",
        "f1_Score: 0.92 \n",
        "\n",
        "(d) Precision: 0.14 \n",
        "Recall: 0.14 \n",
        "f1_Score: 0.14 \n",
        "\n",
        "**Option c**"
      ],
      "metadata": {
        "id": "BJkmcO_-7FLw"
      }
    },
    {
      "cell_type": "code",
      "source": [
        "import numpy as np\n",
        "from sklearn.datasets import fetch_openml\n",
        "from sklearn.preprocessing import MinMaxScaler,StandardScaler\n",
        "from sklearn.pipeline import Pipeline\n",
        "from sklearn.metrics import ConfusionMatrixDisplay, confusion_matrix, precision_recall_curve\n",
        "from sklearn.metrics import precision_score, recall_score, classification_report\n",
        "\n",
        "np.random.seed(42)"
      ],
      "metadata": {
        "id": "c-yw-v4L6kOV"
      },
      "execution_count": null,
      "outputs": []
    },
    {
      "cell_type": "code",
      "source": [
        "X,y= fetch_openml('mnist_784',version=1,return_X_y=True) \n",
        "#it returns Data and label as a pandas dataframe\n",
        "X = X.to_numpy()\n",
        "y = y.to_numpy()\n",
        "\n",
        "X_train = X[0:20000,:]\n",
        "X_test = X[20000:25000,:]\n",
        "y_train = y[0:20000]\n",
        "y_test = y[20000:25000]\n",
        "\n",
        "print(X_train.shape, X_test.shape, y_train.shape, y_test.shape)"
      ],
      "metadata": {
        "colab": {
          "base_uri": "https://localhost:8080/"
        },
        "id": "gFffCAKt7jg2",
        "outputId": "804048d2-45b3-49fd-cb01-acfdf6de5f5d"
      },
      "execution_count": null,
      "outputs": [
        {
          "output_type": "stream",
          "name": "stdout",
          "text": [
            "(20000, 784) (5000, 784) (20000,) (5000,)\n"
          ]
        }
      ]
    },
    {
      "cell_type": "code",
      "source": [
        "# Create a pipeline\n",
        "\n",
        "pipe_2 = Pipeline([('scaler', MinMaxScaler()),\n",
        "                         (\"classifier\", svm.SVC(kernel='linear', decision_function_shape='ovr', C=1, class_weight=None))])\n",
        "\n",
        "# Fit the estimator , pipeline\n",
        "\n",
        "pipe_2.fit(X_train,y_train)\n",
        "\n",
        "# Get the predictions\n",
        "\n",
        "y_pred = pipe_2.predict(X_test)\n",
        "\n",
        "cm = confusion_matrix(y_test, y_pred)\n",
        "print('Confusion matrix : \\n', cm)\n",
        "out = np.sum(np.diag(cm))\n",
        "out"
      ],
      "metadata": {
        "colab": {
          "base_uri": "https://localhost:8080/"
        },
        "id": "YrgbhD617nLN",
        "outputId": "34c485b6-bafe-4105-e652-70f2edea2ae5"
      },
      "execution_count": null,
      "outputs": [
        {
          "output_type": "stream",
          "name": "stdout",
          "text": [
            "Confusion matrix : \n",
            " [[469   0   1   0   0   5   1   1   1   0]\n",
            " [  1 555   2   4   0   1   1   1   3   0]\n",
            " [  5   4 479   6   9   1   3   6   7   1]\n",
            " [  3   3  13 462   0  19   0   3   9   4]\n",
            " [  2   0   6   0 468   1   2   4   1  16]\n",
            " [ 14   0   0  18   2 405   3   2   7   9]\n",
            " [  1   2   2   0   6   9 471   0   0   0]\n",
            " [  0   2   4   1   7   1   0 483   0   6]\n",
            " [  3  10  11  15   0  19   6   3 396   3]\n",
            " [  3   6   1   2  21   0   0  26   2 435]]\n"
          ]
        },
        {
          "output_type": "execute_result",
          "data": {
            "text/plain": [
              "4623"
            ]
          },
          "metadata": {},
          "execution_count": 333
        }
      ]
    },
    {
      "cell_type": "code",
      "source": [
        "print(cm.shape)"
      ],
      "metadata": {
        "colab": {
          "base_uri": "https://localhost:8080/"
        },
        "id": "PI4wBSDr757Q",
        "outputId": "e13fb462-0e13-49de-f55f-7e2e98f46b83"
      },
      "execution_count": null,
      "outputs": [
        {
          "output_type": "stream",
          "name": "stdout",
          "text": [
            "(10, 10)\n"
          ]
        }
      ]
    },
    {
      "cell_type": "code",
      "source": [
        "precisionScore = precision_score(y_test, y_pred, average='micro')\n",
        "recallSscore = recall_score(y_test, y_pred, average='micro')\n",
        "f1Score = f1_score(y_test, y_pred, average='micro')\n",
        "\n",
        "print(\"Precision: {:.2f} %\".format(precisionScore))\n",
        "print(\"Recall: {:.2f} %\".format(recallSscore))\n",
        "print(\"f1_Score: {:.2f} %\".format(f1Score))"
      ],
      "metadata": {
        "colab": {
          "base_uri": "https://localhost:8080/"
        },
        "id": "BswiENoQ8JhN",
        "outputId": "4d5198e5-b9b9-4a8a-aac6-91a7a79b6d69"
      },
      "execution_count": null,
      "outputs": [
        {
          "output_type": "stream",
          "name": "stdout",
          "text": [
            "Precision: 0.92 %\n",
            "Recall: 0.92 %\n",
            "f1_Score: 0.92 %\n"
          ]
        }
      ]
    },
    {
      "cell_type": "markdown",
      "source": [
        "## Question 6\n",
        "\n",
        "Consider the MNIST dataset, split it into training and test set in 50:50 ratio with `random_state = 42`. Fit a SVM model using pipeline with StandardScalar, SVM classifier `kernel='poly'` and `degree = 3`,  `decision_function_shape='ovr'`and `class_weight='balanced'`, `C=10`. Train the model on training data, and make predictions for test data. Generate the Classification report and choose the correct value for weighted avg of f1_score.\n",
        "\n",
        "(a) 0.96\n",
        "\n",
        "(b) 0.97\n",
        "\n",
        "(c) 0.98\n",
        "\n",
        "(d) 0.99\n",
        "\n",
        "**Option b**"
      ],
      "metadata": {
        "id": "cKgJCvH68PNM"
      }
    },
    {
      "cell_type": "code",
      "source": [
        "X_train, X_test, y_train, y_test = train_test_split(X, y, test_size = 0.5, random_state = 45)\n",
        "print(X_train.shape, X_test.shape, y_train.shape, y_test.shape)"
      ],
      "metadata": {
        "colab": {
          "base_uri": "https://localhost:8080/"
        },
        "id": "NBptYaqw8QuP",
        "outputId": "c2ab7429-bad0-4466-ad49-7ff1d20c95ca"
      },
      "execution_count": null,
      "outputs": [
        {
          "output_type": "stream",
          "name": "stdout",
          "text": [
            "(35000, 784) (35000, 784) (35000,) (35000,)\n"
          ]
        }
      ]
    },
    {
      "cell_type": "code",
      "source": [
        "pipe_1 = Pipeline([('scaler', StandardScaler()),\n",
        "                         (\"classifier\", SVC(kernel='poly', degree = 3, decision_function_shape='ovr', class_weight='balanced', C=10))])\n",
        "pipe_1.fit(X_train,y_train)"
      ],
      "metadata": {
        "colab": {
          "base_uri": "https://localhost:8080/"
        },
        "id": "oqV7JbXM8Y2o",
        "outputId": "3dbc3621-6124-467f-8c23-54f9b4705035"
      },
      "execution_count": null,
      "outputs": [
        {
          "output_type": "execute_result",
          "data": {
            "text/plain": [
              "Pipeline(steps=[('scaler', StandardScaler()),\n",
              "                ('classifier',\n",
              "                 SVC(C=10, class_weight='balanced', kernel='poly'))])"
            ]
          },
          "metadata": {},
          "execution_count": 337
        }
      ]
    },
    {
      "cell_type": "code",
      "source": [
        "y_pred = pipe_1.predict(X_test)\n",
        "\n",
        "CR = classification_report(y_test, y_pred)\n",
        "print('Classification report \\n')\n",
        "print(CR)"
      ],
      "metadata": {
        "colab": {
          "base_uri": "https://localhost:8080/"
        },
        "id": "LunDpb2Q8bN9",
        "outputId": "44154adf-36f5-41d7-e686-90c80eb9cb79"
      },
      "execution_count": null,
      "outputs": [
        {
          "output_type": "stream",
          "name": "stdout",
          "text": [
            "Classification report \n",
            "\n",
            "              precision    recall  f1-score   support\n",
            "\n",
            "           0       0.99      0.99      0.99      3415\n",
            "           1       0.99      0.99      0.99      3854\n",
            "           2       0.97      0.97      0.97      3484\n",
            "           3       0.97      0.96      0.97      3550\n",
            "           4       0.97      0.98      0.97      3450\n",
            "           5       0.97      0.97      0.97      3133\n",
            "           6       0.99      0.98      0.98      3494\n",
            "           7       0.98      0.96      0.97      3692\n",
            "           8       0.95      0.97      0.96      3429\n",
            "           9       0.96      0.96      0.96      3499\n",
            "\n",
            "    accuracy                           0.97     35000\n",
            "   macro avg       0.97      0.97      0.97     35000\n",
            "weighted avg       0.97      0.97      0.97     35000\n",
            "\n"
          ]
        }
      ]
    },
    {
      "cell_type": "markdown",
      "source": [
        "##Question 7\n",
        "Write the function `compute_score(X_train, y_train, X_test, y_test)` to do the following on the `Iris` dataset-\n",
        "\n",
        "Write your code keeping in mind:\n",
        "- Split the Iris dataset into train and test set with 70:30 ratio \n",
        "- Import svm.SVC as 'model'\n",
        "- kernel as 'poly', regularization parameter as 10 and gamma as 'auto'\n",
        "- Train the 'model' and mark the computed 'score'\n",
        "\n",
        "\n",
        "(a) 2.0\n",
        "\n",
        "(b) 1.0\n",
        "\n",
        "(c) -1.0\n",
        "\n",
        "(d) -2.0\n",
        "\n",
        "**Option b**"
      ],
      "metadata": {
        "id": "BW3BVsXP8opz"
      }
    },
    {
      "cell_type": "code",
      "source": [
        "import numpy as np\n",
        "from sklearn import svm, datasets\n",
        "import json\n",
        "import random\n",
        "np.random.seed(42)\n",
        "iris = datasets.load_iris()\n",
        "from sklearn.model_selection import train_test_split"
      ],
      "metadata": {
        "id": "BsJJkjCk8qKx"
      },
      "execution_count": null,
      "outputs": []
    },
    {
      "cell_type": "code",
      "source": [
        "X_train, X_test, y_train, y_test = train_test_split(iris.data, iris.target, test_size=0.3,random_state = 42)\n",
        "def COMPUTE_SCORE(X_train, y_train, X_test, y_test):\n",
        "  model1 = svm.SVC(kernel='poly',C=10,gamma='auto')\n",
        "  model1.fit(X_train,y_train)\n",
        "  score1=model1.score(X_test, y_test)\n",
        "  return score1\n",
        "score1 =COMPUTE_SCORE(X_train, y_train, X_test, y_test)\n",
        "print(score1) "
      ],
      "metadata": {
        "colab": {
          "base_uri": "https://localhost:8080/"
        },
        "id": "AaiZH0RJ8yux",
        "outputId": "a2f3129c-fd91-4b6b-ff3a-f2132b6069c1"
      },
      "execution_count": null,
      "outputs": [
        {
          "output_type": "stream",
          "name": "stdout",
          "text": [
            "1.0\n"
          ]
        }
      ]
    },
    {
      "cell_type": "markdown",
      "source": [
        "##Question 8\n",
        "\n",
        "Write the function `compute_score(X_train, y_train, X_test, y_test)` to do the following on the `Iris` dataset-\n",
        "\n",
        "Write your code keeping in mind:\n",
        "- Split the Iris dataset into train and test set with 70:30 ratio \n",
        "- Import svm.SVC as 'model'\n",
        "- kernel as 'sigmoid', regularization parameter as 25 and gamma as 'auto'\n",
        "- Train the 'model' and mark the computed 'score'\n",
        "\n",
        "\n",
        "(a) 0.2666666666666666\n",
        "\n",
        "(b) 0.9555555555555556\n",
        "\n",
        "(c) 1.8122222222222222\n",
        "\n",
        "(d) 2.2111111111111111\n",
        "\n",
        "**Option a**\n"
      ],
      "metadata": {
        "id": "FV0rG5cB9Dxw"
      }
    },
    {
      "cell_type": "code",
      "source": [
        "import numpy as np\n",
        "import pandas as pd\n",
        "from sklearn import svm, datasets\n",
        "iris = datasets.load_iris()\n",
        "from sklearn.model_selection import train_test_split"
      ],
      "metadata": {
        "id": "2PB8636f9FFn"
      },
      "execution_count": null,
      "outputs": []
    },
    {
      "cell_type": "code",
      "source": [
        "X_train, X_test, y_train, y_test = train_test_split(iris.data, iris.target, test_size=0.3)\n",
        "def COMPUTE_SCORE(X_train, y_train, X_test, y_test):\n",
        "  model1 = svm.SVC(kernel='sigmoid',C=25,gamma='auto')\n",
        "  model1.fit(X_train,y_train)\n",
        "  score1=model1.score(X_test, y_test)\n",
        "  return score1\n",
        "score1 =COMPUTE_SCORE(X_train, y_train, X_test, y_test)\n",
        "print(score1)"
      ],
      "metadata": {
        "colab": {
          "base_uri": "https://localhost:8080/"
        },
        "id": "JHrlXMis9Rnh",
        "outputId": "382843b3-400d-4ddf-bc80-53f7ac7affed"
      },
      "execution_count": null,
      "outputs": [
        {
          "output_type": "stream",
          "name": "stdout",
          "text": [
            "0.28888888888888886\n"
          ]
        }
      ]
    },
    {
      "cell_type": "markdown",
      "source": [
        "##Question 9\n",
        "\n",
        "Import the `iris` dataset and drop the rows where `class=Iris-setosa`. Apply a pipeline containing a `MinMaxScaler()`function called`Scaler` and a `svm.svc()` called `classifier`. Split the `iris` dataset into 75:25 ratio with `random_state=0`. Mark the correct precision score.\n",
        "\n",
        "(a) 0.00\n",
        "\n",
        "(b) 1.22\n",
        "\n",
        "(C) 0.96\n",
        "\n",
        "(d) 2.33\n",
        "\n",
        "**Option c**\n"
      ],
      "metadata": {
        "id": "VVLdX5k59Ybf"
      }
    },
    {
      "cell_type": "code",
      "source": [
        "# Import the libraries for performing classification\n",
        "from sklearn.datasets import load_iris\n",
        "df = load_iris(as_frame = True)\n",
        "df1 = pd.DataFrame(df.data)\n",
        "df1['classes'] = df['target']"
      ],
      "metadata": {
        "id": "IEd55XEr9ZvY"
      },
      "execution_count": null,
      "outputs": []
    },
    {
      "cell_type": "code",
      "source": [
        "df.target_names"
      ],
      "metadata": {
        "colab": {
          "base_uri": "https://localhost:8080/"
        },
        "id": "FHKY21wc-8NR",
        "outputId": "d4b1c74f-6d7d-45fb-8dd7-b71b5129bf4e"
      },
      "execution_count": null,
      "outputs": [
        {
          "output_type": "execute_result",
          "data": {
            "text/plain": [
              "array(['setosa', 'versicolor', 'virginica'], dtype='<U10')"
            ]
          },
          "metadata": {},
          "execution_count": 353
        }
      ]
    },
    {
      "cell_type": "code",
      "source": [
        "id = np.where(df1['classes'] == 0)\n",
        "\n",
        "id"
      ],
      "metadata": {
        "colab": {
          "base_uri": "https://localhost:8080/"
        },
        "id": "9fLRkrZs-iNC",
        "outputId": "149b5b7d-f474-4b4f-eb03-e3b6a1e98aa9"
      },
      "execution_count": null,
      "outputs": [
        {
          "output_type": "execute_result",
          "data": {
            "text/plain": [
              "(array([ 0,  1,  2,  3,  4,  5,  6,  7,  8,  9, 10, 11, 12, 13, 14, 15, 16,\n",
              "        17, 18, 19, 20, 21, 22, 23, 24, 25, 26, 27, 28, 29, 30, 31, 32, 33,\n",
              "        34, 35, 36, 37, 38, 39, 40, 41, 42, 43, 44, 45, 46, 47, 48, 49]),)"
            ]
          },
          "metadata": {},
          "execution_count": 354
        }
      ]
    },
    {
      "cell_type": "code",
      "source": [
        "df2 = df1.drop(index = [ 0,  1,  2,  3,  4,  5,  6,  7,  8,  9, 10, 11, 12, 13, 14, 15, 16,\n",
        "        17, 18, 19, 20, 21, 22, 23, 24, 25, 26, 27, 28, 29, 30, 31, 32, 33,\n",
        "        34, 35, 36, 37, 38, 39, 40, 41, 42, 43, 44, 45, 46, 47, 48, 49])"
      ],
      "metadata": {
        "id": "30FHxH3d_CmB"
      },
      "execution_count": null,
      "outputs": []
    },
    {
      "cell_type": "code",
      "source": [
        "df2['classes'].value_counts()"
      ],
      "metadata": {
        "colab": {
          "base_uri": "https://localhost:8080/"
        },
        "id": "C4m7B_nr_WCB",
        "outputId": "f3d3e7ff-6d62-4bea-9dcd-ffdd39419351"
      },
      "execution_count": null,
      "outputs": [
        {
          "output_type": "execute_result",
          "data": {
            "text/plain": [
              "1    50\n",
              "2    50\n",
              "Name: classes, dtype: int64"
            ]
          },
          "metadata": {},
          "execution_count": 356
        }
      ]
    },
    {
      "cell_type": "code",
      "source": [
        "X = df2.iloc[:,:-1]\n",
        "y = y = df2.iloc[:,-1].values\n",
        "X_train, X_test, y_train, y_test = train_test_split(X, y, test_size = 0.25, random_state = 0)\n"
      ],
      "metadata": {
        "id": "KaMuLTNt_Wg4"
      },
      "execution_count": null,
      "outputs": []
    },
    {
      "cell_type": "code",
      "source": [
        "pipe = make_pipeline(MinMaxScaler(), SVC(kernel='linear', decision_function_shape='ovr', C=1, class_weight=None))\n",
        "pipe.fit(X_train, y_train)\n",
        "y_pred = pipe.predict(X_test)\n",
        "print('Recall: ', precision_score(y_test, y_pred, average='micro'))"
      ],
      "metadata": {
        "colab": {
          "base_uri": "https://localhost:8080/"
        },
        "id": "qpIdOSXW_m3g",
        "outputId": "d22d0c7b-8036-4338-9e51-f733087ebc2d"
      },
      "execution_count": null,
      "outputs": [
        {
          "output_type": "stream",
          "name": "stdout",
          "text": [
            "Recall:  0.96\n"
          ]
        }
      ]
    },
    {
      "cell_type": "code",
      "source": [
        ""
      ],
      "metadata": {
        "id": "7DS9OLRX_tVB"
      },
      "execution_count": null,
      "outputs": []
    }
  ]
}