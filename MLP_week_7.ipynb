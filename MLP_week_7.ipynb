{
  "nbformat": 4,
  "nbformat_minor": 0,
  "metadata": {
    "colab": {
      "name": "MLP_week_7.ipynb",
      "provenance": [],
      "collapsed_sections": [],
      "authorship_tag": "ABX9TyOgFpxcTK5p7MhqXcYHoctE",
      "include_colab_link": true
    },
    "kernelspec": {
      "name": "python3",
      "display_name": "Python 3"
    },
    "language_info": {
      "name": "python"
    }
  },
  "cells": [
    {
      "cell_type": "markdown",
      "metadata": {
        "id": "view-in-github",
        "colab_type": "text"
      },
      "source": [
        "<a href=\"https://colab.research.google.com/github/samapatil1729/Machine-Learning-Practice/blob/main/MLP_week_7.ipynb\" target=\"_parent\"><img src=\"https://colab.research.google.com/assets/colab-badge.svg\" alt=\"Open In Colab\"/></a>"
      ]
    },
    {
      "cell_type": "markdown",
      "source": [
        "#Practice Assignment 7"
      ],
      "metadata": {
        "id": "qxvFGeaKmtUR"
      }
    },
    {
      "cell_type": "markdown",
      "source": [
        "Common Data for Q1,Q2,Q3"
      ],
      "metadata": {
        "id": "FZ3Kx3k3m6I1"
      }
    },
    {
      "cell_type": "code",
      "source": [
        "import pandas as pd\n",
        "import numpy as np"
      ],
      "metadata": {
        "id": "S4ZcY-wasmQr"
      },
      "execution_count": null,
      "outputs": []
    },
    {
      "cell_type": "code",
      "execution_count": null,
      "metadata": {
        "id": "xf9imC9emoy9"
      },
      "outputs": [],
      "source": [
        "text_data=['A metaverse is a network of 3D virtual worlds focused on social connection.',\n",
        "           'In futurism and science fiction, the term is often described as a hypothetical iteration of the Internet as a single', \n",
        "           'universal virtual world that is facilitated by the use of virtual and augmented reality headsets.',\n",
        "           'The term \"metaverse\" has its origins  the 1992 science fiction novel Snow Crash as a portmanteau of \"meta\" and \"universe.\"',\n",
        "           'Various metaverses have been developed for popular use such as virtual world platforms like Second Life.',\n",
        "           'Some metaverse iterations involve integration between virtual and physical spaces and virtual economies',\n",
        "           'often including a significant interest in advancing virtual reality technology.', \n",
        "           'The term has seen considerable use as a buzzword for public relations purposes to exaggerate development progress for various related technologies and projects.[10] Information privacy and user addiction are concerns within metaverses',\n",
        "           'stemming from challenges facing the social media and video game industries as a whole.']"
      ]
    },
    {
      "cell_type": "markdown",
      "source": [
        "##Question 1\n",
        "\n",
        "Vectorize the given text data using countvectorizer() object. What is the shape of text_data after vectorization?\n",
        "\n",
        "(9,99)\n",
        "\n",
        "(99,9)\n",
        "\n",
        "(1,99)\n",
        "\n",
        "(9,20)\n",
        "\n",
        "None of them\n",
        "\n",
        "**Ans: (9, 99)**"
      ],
      "metadata": {
        "id": "Lc5pPTXtm-AG"
      }
    },
    {
      "cell_type": "code",
      "source": [
        "from sklearn.feature_extraction.text import CountVectorizer"
      ],
      "metadata": {
        "id": "0OI5npHim4_2"
      },
      "execution_count": null,
      "outputs": []
    },
    {
      "cell_type": "code",
      "source": [
        "ct = CountVectorizer()\n",
        "text_1 = ct.fit_transform(text_data)\n",
        "text_1.shape"
      ],
      "metadata": {
        "id": "Reu8t6T5nW94",
        "colab": {
          "base_uri": "https://localhost:8080/"
        },
        "outputId": "7f931da8-7c3f-46f3-cc15-a7f1da52baf6"
      },
      "execution_count": null,
      "outputs": [
        {
          "output_type": "execute_result",
          "data": {
            "text/plain": [
              "(9, 99)"
            ]
          },
          "metadata": {},
          "execution_count": 4
        }
      ]
    },
    {
      "cell_type": "markdown",
      "source": [
        "##Question 2\n",
        "\n",
        "What is the shape of text_data after vectorization after the term that appeared in less than 2 documents are ignored?\n",
        "\n",
        "\n",
        "(9,99)\n",
        "\n",
        "(99,9)\n",
        "\n",
        "(9,20)\n",
        "\n",
        "(20,9)\n",
        "\n",
        "None of them\n",
        "\n",
        "**Ans: (9, 20)**"
      ],
      "metadata": {
        "id": "tipVNjgLpQbj"
      }
    },
    {
      "cell_type": "code",
      "source": [
        "ct2 = CountVectorizer(min_df=2)\n",
        "text_2 = ct2.fit_transform(text_data)\n",
        "text_2.shape"
      ],
      "metadata": {
        "colab": {
          "base_uri": "https://localhost:8080/"
        },
        "id": "pUrxNqdioU7L",
        "outputId": "00157f2d-0f62-4126-9216-dac7325d3b7c"
      },
      "execution_count": null,
      "outputs": [
        {
          "output_type": "execute_result",
          "data": {
            "text/plain": [
              "(9, 20)"
            ]
          },
          "metadata": {},
          "execution_count": 5
        }
      ]
    },
    {
      "cell_type": "markdown",
      "source": [
        "##Question 3\n",
        "\n",
        "What is the token associated with word \"metaverse\"?\n",
        "\n",
        "50\n",
        "\n",
        "51\n",
        "\n",
        "52\n",
        "\n",
        "53\n",
        "\n",
        "None of them\n",
        "\n",
        "**Ans: 51**"
      ],
      "metadata": {
        "id": "J16FmGLzui6s"
      }
    },
    {
      "cell_type": "code",
      "source": [
        "ct.vocabulary_['metaverse']"
      ],
      "metadata": {
        "id": "xwOSL--UpwWk",
        "colab": {
          "base_uri": "https://localhost:8080/"
        },
        "outputId": "1d23366e-dde3-4806-af50-f0835bf30c83"
      },
      "execution_count": null,
      "outputs": [
        {
          "output_type": "execute_result",
          "data": {
            "text/plain": [
              "51"
            ]
          },
          "metadata": {},
          "execution_count": 6
        }
      ]
    },
    {
      "cell_type": "markdown",
      "source": [
        "##Question 4\n",
        "\n",
        "Docs = ['This is the first question.', 'This document is the second document.', 'And this is the third one' ]\n",
        "\n",
        "Write a code to convert the above text into an array after tokenizing it using countvectorizer with 10 features. What will be the output?\n",
        "\n",
        "\n",
        "\n",
        "**Ans:**\n",
        "\n",
        "\n",
        "array([[0, 0, 1, 1, 0, 1, 0, 1, 0, 1],\n",
        "       [0, 2, 0, 1, 0, 0, 1, 1, 0, 1],\n",
        "       [1, 0, 0, 1, 1, 0, 0, 1, 1, 1]])\n"
      ],
      "metadata": {
        "id": "bh4ClVsqvINN"
      }
    },
    {
      "cell_type": "code",
      "source": [
        "Docs = ['This is the first question.', 'This document is the second document.', 'And this is the third one' ]"
      ],
      "metadata": {
        "id": "Za59n-Fyu_UO"
      },
      "execution_count": null,
      "outputs": []
    },
    {
      "cell_type": "code",
      "source": [
        "cv = CountVectorizer()\n",
        "x = cv.fit_transform(Docs)\n",
        "x.toarray()"
      ],
      "metadata": {
        "colab": {
          "base_uri": "https://localhost:8080/"
        },
        "id": "UM5DQRwYvX72",
        "outputId": "67a6a423-891c-440f-eff9-45ed374573b5"
      },
      "execution_count": null,
      "outputs": [
        {
          "output_type": "execute_result",
          "data": {
            "text/plain": [
              "array([[0, 0, 1, 1, 0, 1, 0, 1, 0, 1],\n",
              "       [0, 2, 0, 1, 0, 0, 1, 1, 0, 1],\n",
              "       [1, 0, 0, 1, 1, 0, 0, 1, 1, 1]])"
            ]
          },
          "metadata": {},
          "execution_count": 8
        }
      ]
    },
    {
      "cell_type": "markdown",
      "source": [
        "##Question 5\n",
        "\n",
        "Define a function called k_closest in python with the following signature:\n",
        "           Which returns closest vectors in X which are closest to the vector p. Use the appropriate sklearn methods.\n",
        "\n",
        "    Consider, X = np.asarray([[72, 69 ,82], [ 9 ,79, 99], [20 ,47, 88], [80 ,64, 49]]) p= np.asarray([[0,0,0]]) and k=1 For these values, what is the output of the function?\n",
        "\n",
        "array([[20, 47, 82]])\n",
        "\n",
        "array([[80 ,64, 49]])\n",
        "\n",
        "array([[9 ,79, 99]])\n",
        "\n",
        "array([[20 ,47, 88]])\n",
        "\n",
        "**Ans: array([[20, 47, 88]])**"
      ],
      "metadata": {
        "id": "WyYc1K-uxT-0"
      }
    },
    {
      "cell_type": "code",
      "source": [
        "from sklearn.neighbors import NearestNeighbors\n",
        "np.random.seed(0)"
      ],
      "metadata": {
        "id": "nyu6AnU_vvO5"
      },
      "execution_count": null,
      "outputs": []
    },
    {
      "cell_type": "code",
      "source": [
        "def  k_closest(X, p, k = 1):\n",
        "  NB = NearestNeighbors()\n",
        "  Xcl = NB.fit(X)\n",
        "  idx = Xcl.kneighbors(p, k, return_distance=False)\n",
        "  return X[idx[0]]"
      ],
      "metadata": {
        "id": "sFBsMuCjx6go"
      },
      "execution_count": null,
      "outputs": []
    },
    {
      "cell_type": "code",
      "source": [
        "X = np.asarray([[72, 69 ,82], [ 9 ,79, 99], [20 ,47, 88], [80 ,64, 49]])\n",
        "p= np.asarray([[0,0,0]])\n",
        "k_closest(X, p, k=1)"
      ],
      "metadata": {
        "colab": {
          "base_uri": "https://localhost:8080/"
        },
        "id": "IK7SvONsywxz",
        "outputId": "2c973537-3dc4-4458-c901-7486a0a5d84a"
      },
      "execution_count": null,
      "outputs": [
        {
          "output_type": "execute_result",
          "data": {
            "text/plain": [
              "array([[20, 47, 88]])"
            ]
          },
          "metadata": {},
          "execution_count": 11
        }
      ]
    },
    {
      "cell_type": "markdown",
      "source": [
        "##Question 6\n",
        "\n",
        "### **Que 6.**\n",
        " Define a function called *distance* in python with the following signature:\n",
        "\n",
        "```\n",
        "def distance( x0 : \"A vector as np.array\", X: \"A list of vectors as np.ndarray\", p : \"p value for Minkowsky distance. Default 2, for Eucledian\"): \n",
        "```\n",
        "which returns a list of calculated Minkowsky distances between the point x0 and all points in X. Recall that the p-Minkowsky distance between $\\mathbf {x} = (x_1, x_2, \\ldots x_n)^T$ and $\\mathbf {y} = (y_1, y_2, \\ldots y_n)^T$ is \n",
        "\n",
        "\n",
        "$$\\delta(\\mathbf x,\\mathbf y) = \\left( |x_1 - y_1|^p+ |x_2 - y_2|^p + \\cdots + |x_n - y_n|^p \\right )^{\\frac{1}{p}}$$\n",
        "\n",
        "Do not use any predefined function to calculate the same.\n",
        "\n",
        "Consider,\n",
        "X0 = np.array([1,0,0,0]),\n",
        "X= np.asarray([[1, 0, 0,0], [0, 1, 1,1],[1,2,0,0]]),\n",
        "p= 2\n",
        "then,  what is the output of the function distance(X0,X,p) ?\n",
        "\n",
        "Options: <br>\n",
        "\n",
        "1. [0, 1, 0,1]\n",
        "\n",
        "2. [1, 0, 0,0]\n",
        "\n",
        "3. [0, 2, 2]\n",
        "\n",
        "4. [0, 2, 1]\n",
        "\n",
        "Ans: [0, 2, 2]"
      ],
      "metadata": {
        "id": "_F8cfta_0PQh"
      }
    },
    {
      "cell_type": "code",
      "source": [
        "def distance( x0, X, p= 2):\n",
        "  \n",
        "  if (X.shape[1] == 1) and (np.asarray(x0).size == 1) :  #if x0 is scalar and X is an array of scalars\n",
        "      pass\n",
        "  else:  assert x0.shape[0] == X.shape[1], \"Input vectors must have identical dimension\"\n",
        "\n",
        "  assert p>0, \"p must be positive integer\"\n",
        "\n",
        "  dist = lambda y : np.power(  np.sum(  np.power(  np.abs(x0-y)  ,p)  )  , 1/p  )\n",
        "\n",
        "  return [dist(y) for y in X]"
      ],
      "metadata": {
        "id": "V2PzHsE6z7VZ"
      },
      "execution_count": null,
      "outputs": []
    },
    {
      "cell_type": "code",
      "source": [
        "X0 = np.array([1, 0, 0, 0])\n",
        "X= np.asarray([[1, 0, 0, 0], \n",
        "               [0, 1, 1, 1],\n",
        "               [1, 2, 0, 0]])\n",
        "distance(X0, X, p=2)"
      ],
      "metadata": {
        "colab": {
          "base_uri": "https://localhost:8080/"
        },
        "id": "SJzCKUEs1vP7",
        "outputId": "5d6dc085-dcbf-4c42-caa2-a9943223b8e6"
      },
      "execution_count": null,
      "outputs": [
        {
          "output_type": "execute_result",
          "data": {
            "text/plain": [
              "[0.0, 2.0, 2.0]"
            ]
          },
          "metadata": {},
          "execution_count": 13
        }
      ]
    },
    {
      "cell_type": "markdown",
      "source": [
        "Common data for Q7 to 11 Practice)\n",
        "\n",
        " Load digit dataset on Colab (datasets.load_digits()) and use softmax regression to build the model Using following steps.\n",
        " Step 1: Load the dataset and split it using train_test_split by keeping: test_size= 0.2 random_state=10\n",
        "\n",
        " Step 2: Use standard scaler as a scaling function to scale the training as well as test data.\n",
        "\n",
        " Step 3: Use Logisticregression() as an estimator and set parameter (multi_class='multinomial', solver='sag') to predict the output."
      ],
      "metadata": {
        "id": "Rqzc6IwE156S"
      }
    },
    {
      "cell_type": "markdown",
      "source": [
        "##Question 7\n",
        "\n",
        "What is the shape of features data you got in digits dataset ?\n",
        "\n",
        "**Ans: (1797, 64)**"
      ],
      "metadata": {
        "id": "khDb9Ew722gp"
      }
    },
    {
      "cell_type": "code",
      "source": [
        "from sklearn.datasets import load_digits\n",
        "from sklearn.model_selection import train_test_split\n",
        "from sklearn.preprocessing import StandardScaler\n",
        "from sklearn.linear_model import LogisticRegression\n",
        "from sklearn.pipeline import make_pipeline\n",
        "from sklearn.metrics import ConfusionMatrixDisplay, classification_report"
      ],
      "metadata": {
        "id": "6ExEDDYe11xb"
      },
      "execution_count": null,
      "outputs": []
    },
    {
      "cell_type": "code",
      "source": [
        "X, y = load_digits(return_X_y=True)"
      ],
      "metadata": {
        "id": "G2lESkxo3E6L"
      },
      "execution_count": null,
      "outputs": []
    },
    {
      "cell_type": "code",
      "source": [
        "X.shape"
      ],
      "metadata": {
        "colab": {
          "base_uri": "https://localhost:8080/"
        },
        "id": "Ieh7baa24ciP",
        "outputId": "07bdc698-613c-495f-8cf7-c21d8da4217d"
      },
      "execution_count": null,
      "outputs": [
        {
          "output_type": "execute_result",
          "data": {
            "text/plain": [
              "(1797, 64)"
            ]
          },
          "metadata": {},
          "execution_count": 16
        }
      ]
    },
    {
      "cell_type": "markdown",
      "source": [
        "#Question 8\n",
        "\n",
        "How many labels are there in the dataset?\n",
        "\n",
        "**Ans: 10**"
      ],
      "metadata": {
        "id": "UmJ2KW8Z5hCK"
      }
    },
    {
      "cell_type": "code",
      "source": [
        "len(np.unique(y))\n"
      ],
      "metadata": {
        "colab": {
          "base_uri": "https://localhost:8080/"
        },
        "id": "Fjh3AVcX3TOj",
        "outputId": "810f7c67-eebc-4bb5-f5c4-ba777a91743c"
      },
      "execution_count": null,
      "outputs": [
        {
          "output_type": "execute_result",
          "data": {
            "text/plain": [
              "10"
            ]
          },
          "metadata": {},
          "execution_count": 17
        }
      ]
    },
    {
      "cell_type": "markdown",
      "source": [
        "##Question 9\n",
        "\n",
        "How many times label '7' is there in the dataset?\n",
        "\n",
        "**Ans: 179**"
      ],
      "metadata": {
        "id": "TMisrt3x5qMp"
      }
    },
    {
      "cell_type": "code",
      "source": [
        "pd.DataFrame(y).value_counts()"
      ],
      "metadata": {
        "colab": {
          "base_uri": "https://localhost:8080/"
        },
        "id": "GkALR6QF4v6x",
        "outputId": "334c6aa9-e654-4615-c02f-f0446d0b997b"
      },
      "execution_count": null,
      "outputs": [
        {
          "output_type": "execute_result",
          "data": {
            "text/plain": [
              "3    183\n",
              "1    182\n",
              "5    182\n",
              "4    181\n",
              "6    181\n",
              "9    180\n",
              "7    179\n",
              "0    178\n",
              "2    177\n",
              "8    174\n",
              "dtype: int64"
            ]
          },
          "metadata": {},
          "execution_count": 18
        }
      ]
    },
    {
      "cell_type": "code",
      "source": [
        "x_tr, x_te, y_tr, y_te = train_test_split(X, y,test_size = 0.2, random_state=10)"
      ],
      "metadata": {
        "id": "kgPiyXC97GPE"
      },
      "execution_count": null,
      "outputs": []
    },
    {
      "cell_type": "code",
      "source": [
        "pipe = make_pipeline(StandardScaler(), LogisticRegression(solver='sag', multi_class='multinomial'))"
      ],
      "metadata": {
        "id": "0hPDnACi8NIL"
      },
      "execution_count": null,
      "outputs": []
    },
    {
      "cell_type": "code",
      "source": [
        "clf = pipe.fit(x_tr, y_tr)\n",
        "y_pred = clf.predict(x_te)\n",
        "print(classification_report(y_te, y_pred))"
      ],
      "metadata": {
        "colab": {
          "base_uri": "https://localhost:8080/"
        },
        "id": "sawbMWwg9cUL",
        "outputId": "5de81b44-9098-46a1-96a4-b2a42e7e3758"
      },
      "execution_count": null,
      "outputs": [
        {
          "output_type": "stream",
          "name": "stdout",
          "text": [
            "              precision    recall  f1-score   support\n",
            "\n",
            "           0       1.00      1.00      1.00        37\n",
            "           1       0.97      0.91      0.94        34\n",
            "           2       0.89      1.00      0.94        34\n",
            "           3       1.00      0.95      0.97        40\n",
            "           4       0.97      0.94      0.96        34\n",
            "           5       0.94      1.00      0.97        32\n",
            "           6       1.00      0.97      0.99        37\n",
            "           7       1.00      1.00      1.00        40\n",
            "           8       0.89      0.94      0.91        33\n",
            "           9       1.00      0.95      0.97        39\n",
            "\n",
            "    accuracy                           0.97       360\n",
            "   macro avg       0.97      0.97      0.97       360\n",
            "weighted avg       0.97      0.97      0.97       360\n",
            "\n"
          ]
        },
        {
          "output_type": "stream",
          "name": "stderr",
          "text": [
            "/usr/local/lib/python3.7/dist-packages/sklearn/linear_model/_sag.py:354: ConvergenceWarning: The max_iter was reached which means the coef_ did not converge\n",
            "  ConvergenceWarning,\n"
          ]
        }
      ]
    },
    {
      "cell_type": "markdown",
      "source": [
        "#**Graded Assignment - 7**"
      ],
      "metadata": {
        "id": "y9mqjgEs8wMC"
      }
    },
    {
      "cell_type": "markdown",
      "source": [
        "\n",
        "(Common data for Q1 to Q5 graded questions)\n",
        "\n",
        "Step 1: Download the dataset using following link: (https://drive.google.com/file/d/1v-uxWEgTI0GDCOTZOX3shUMkTf1a_CL7/view?usp=sharing)\n",
        "\n",
        "Step 2: Import the data in google colab using pd.read_csv().\n",
        "\n",
        "Step 3: Seperate features and target data in seperate variable X and Y.\n",
        "\n",
        "Step 4: Convert dataframe X and series y into array and save it in variable X_array,y_array.\n",
        "\n",
        "Step 5: Split the dataset using train_test_split. (Keep parameter train_size=0.7 and random_state=10).\n",
        "\n",
        "Step 6: Reshape the dataset in such a way that each entry of data has 90 samples.\n",
        "\n",
        "Step 7: Use SGD regressor as an estimator and partial_fit to fit the dataset on the model. (Set random_state=10)\n",
        "\n",
        "Step 8: Calculate different evaluation metrics value like mean_square_error, R2_score.\n",
        "\n",
        "Use the training set for fitting the model and use the test data to make the predictions.\n",
        "\n",
        "Note: No need to scale the data. It's already scaled.\n",
        "\n",
        "Answer the below questions."
      ],
      "metadata": {
        "id": "JRFSqmTv8oD9"
      }
    },
    {
      "cell_type": "code",
      "source": [
        "import pandas as pd\n",
        "import numpy as np\n",
        "from sklearn.model_selection import train_test_split\n",
        "from sklearn.linear_model import SGDRegressor"
      ],
      "metadata": {
        "id": "Z28_KdO88oli"
      },
      "execution_count": null,
      "outputs": []
    },
    {
      "cell_type": "code",
      "source": [
        "urls='https://drive.google.com/file/d/1v-uxWEgTI0GDCOTZOX3shUMkTf1a_CL7/view?usp=sharing'\n",
        "urls='https://drive.google.com/uc?id=' + urls.split('/')[-2]\n",
        "df = pd.read_csv(urls)"
      ],
      "metadata": {
        "id": "KhyEA3Sz9ECg"
      },
      "execution_count": null,
      "outputs": []
    },
    {
      "cell_type": "markdown",
      "source": [
        "##Question 1\n",
        "How many fetaures are there in the dataset?\n",
        "\n",
        "\n",
        "10\n",
        "\n",
        "11\n",
        "\n",
        "90,000\n",
        "\n",
        "9000\n",
        "\n",
        "**Ans: 10**"
      ],
      "metadata": {
        "id": "c7CI9QFFe8x0"
      }
    },
    {
      "cell_type": "code",
      "source": [
        "df.shape"
      ],
      "metadata": {
        "colab": {
          "base_uri": "https://localhost:8080/"
        },
        "id": "q0oc_Rc29IMH",
        "outputId": "c552c6fa-dae3-44bb-f651-5c78a8183ff9"
      },
      "execution_count": null,
      "outputs": [
        {
          "output_type": "execute_result",
          "data": {
            "text/plain": [
              "(90000, 11)"
            ]
          },
          "metadata": {},
          "execution_count": 24
        }
      ]
    },
    {
      "cell_type": "code",
      "source": [
        "df.head()"
      ],
      "metadata": {
        "colab": {
          "base_uri": "https://localhost:8080/",
          "height": 206
        },
        "id": "9s41JghZ9YsK",
        "outputId": "2d817fe3-75d4-4d1a-ca70-082facd896a4"
      },
      "execution_count": null,
      "outputs": [
        {
          "output_type": "execute_result",
          "data": {
            "text/plain": [
              "   Feature-1  Feature-2  Feature-3  Feature-4  Feature-5  Feature-6  \\\n",
              "0     -1.580     1.0500      1.060     -0.440      0.451    -0.0348   \n",
              "1     -0.832    -0.8660     -1.340      0.138      1.180     0.7330   \n",
              "2     -0.237     2.0900     -3.930      0.296      0.352    -0.5010   \n",
              "3     -1.170    -1.1300     -1.090      1.120      0.312     0.1830   \n",
              "4      0.260    -0.0273      0.925     -1.150     -1.390     0.0251   \n",
              "\n",
              "   Feature-7  Feature-8  Feature-9  Feature-10  Target  \n",
              "0      0.643     0.2650      0.268      -0.851    84.7  \n",
              "1     -1.410     0.1350     -0.088      -1.550  -211.0  \n",
              "2      0.961    -0.0287      1.820       0.938   -96.9  \n",
              "3      0.448    -0.8190     -1.010      -1.080  -152.0  \n",
              "4      0.627     0.0950     -0.280      -0.848   -57.7  "
            ],
            "text/html": [
              "\n",
              "  <div id=\"df-780dfd83-b896-47b8-9a3c-32f3f038aecb\">\n",
              "    <div class=\"colab-df-container\">\n",
              "      <div>\n",
              "<style scoped>\n",
              "    .dataframe tbody tr th:only-of-type {\n",
              "        vertical-align: middle;\n",
              "    }\n",
              "\n",
              "    .dataframe tbody tr th {\n",
              "        vertical-align: top;\n",
              "    }\n",
              "\n",
              "    .dataframe thead th {\n",
              "        text-align: right;\n",
              "    }\n",
              "</style>\n",
              "<table border=\"1\" class=\"dataframe\">\n",
              "  <thead>\n",
              "    <tr style=\"text-align: right;\">\n",
              "      <th></th>\n",
              "      <th>Feature-1</th>\n",
              "      <th>Feature-2</th>\n",
              "      <th>Feature-3</th>\n",
              "      <th>Feature-4</th>\n",
              "      <th>Feature-5</th>\n",
              "      <th>Feature-6</th>\n",
              "      <th>Feature-7</th>\n",
              "      <th>Feature-8</th>\n",
              "      <th>Feature-9</th>\n",
              "      <th>Feature-10</th>\n",
              "      <th>Target</th>\n",
              "    </tr>\n",
              "  </thead>\n",
              "  <tbody>\n",
              "    <tr>\n",
              "      <th>0</th>\n",
              "      <td>-1.580</td>\n",
              "      <td>1.0500</td>\n",
              "      <td>1.060</td>\n",
              "      <td>-0.440</td>\n",
              "      <td>0.451</td>\n",
              "      <td>-0.0348</td>\n",
              "      <td>0.643</td>\n",
              "      <td>0.2650</td>\n",
              "      <td>0.268</td>\n",
              "      <td>-0.851</td>\n",
              "      <td>84.7</td>\n",
              "    </tr>\n",
              "    <tr>\n",
              "      <th>1</th>\n",
              "      <td>-0.832</td>\n",
              "      <td>-0.8660</td>\n",
              "      <td>-1.340</td>\n",
              "      <td>0.138</td>\n",
              "      <td>1.180</td>\n",
              "      <td>0.7330</td>\n",
              "      <td>-1.410</td>\n",
              "      <td>0.1350</td>\n",
              "      <td>-0.088</td>\n",
              "      <td>-1.550</td>\n",
              "      <td>-211.0</td>\n",
              "    </tr>\n",
              "    <tr>\n",
              "      <th>2</th>\n",
              "      <td>-0.237</td>\n",
              "      <td>2.0900</td>\n",
              "      <td>-3.930</td>\n",
              "      <td>0.296</td>\n",
              "      <td>0.352</td>\n",
              "      <td>-0.5010</td>\n",
              "      <td>0.961</td>\n",
              "      <td>-0.0287</td>\n",
              "      <td>1.820</td>\n",
              "      <td>0.938</td>\n",
              "      <td>-96.9</td>\n",
              "    </tr>\n",
              "    <tr>\n",
              "      <th>3</th>\n",
              "      <td>-1.170</td>\n",
              "      <td>-1.1300</td>\n",
              "      <td>-1.090</td>\n",
              "      <td>1.120</td>\n",
              "      <td>0.312</td>\n",
              "      <td>0.1830</td>\n",
              "      <td>0.448</td>\n",
              "      <td>-0.8190</td>\n",
              "      <td>-1.010</td>\n",
              "      <td>-1.080</td>\n",
              "      <td>-152.0</td>\n",
              "    </tr>\n",
              "    <tr>\n",
              "      <th>4</th>\n",
              "      <td>0.260</td>\n",
              "      <td>-0.0273</td>\n",
              "      <td>0.925</td>\n",
              "      <td>-1.150</td>\n",
              "      <td>-1.390</td>\n",
              "      <td>0.0251</td>\n",
              "      <td>0.627</td>\n",
              "      <td>0.0950</td>\n",
              "      <td>-0.280</td>\n",
              "      <td>-0.848</td>\n",
              "      <td>-57.7</td>\n",
              "    </tr>\n",
              "  </tbody>\n",
              "</table>\n",
              "</div>\n",
              "      <button class=\"colab-df-convert\" onclick=\"convertToInteractive('df-780dfd83-b896-47b8-9a3c-32f3f038aecb')\"\n",
              "              title=\"Convert this dataframe to an interactive table.\"\n",
              "              style=\"display:none;\">\n",
              "        \n",
              "  <svg xmlns=\"http://www.w3.org/2000/svg\" height=\"24px\"viewBox=\"0 0 24 24\"\n",
              "       width=\"24px\">\n",
              "    <path d=\"M0 0h24v24H0V0z\" fill=\"none\"/>\n",
              "    <path d=\"M18.56 5.44l.94 2.06.94-2.06 2.06-.94-2.06-.94-.94-2.06-.94 2.06-2.06.94zm-11 1L8.5 8.5l.94-2.06 2.06-.94-2.06-.94L8.5 2.5l-.94 2.06-2.06.94zm10 10l.94 2.06.94-2.06 2.06-.94-2.06-.94-.94-2.06-.94 2.06-2.06.94z\"/><path d=\"M17.41 7.96l-1.37-1.37c-.4-.4-.92-.59-1.43-.59-.52 0-1.04.2-1.43.59L10.3 9.45l-7.72 7.72c-.78.78-.78 2.05 0 2.83L4 21.41c.39.39.9.59 1.41.59.51 0 1.02-.2 1.41-.59l7.78-7.78 2.81-2.81c.8-.78.8-2.07 0-2.86zM5.41 20L4 18.59l7.72-7.72 1.47 1.35L5.41 20z\"/>\n",
              "  </svg>\n",
              "      </button>\n",
              "      \n",
              "  <style>\n",
              "    .colab-df-container {\n",
              "      display:flex;\n",
              "      flex-wrap:wrap;\n",
              "      gap: 12px;\n",
              "    }\n",
              "\n",
              "    .colab-df-convert {\n",
              "      background-color: #E8F0FE;\n",
              "      border: none;\n",
              "      border-radius: 50%;\n",
              "      cursor: pointer;\n",
              "      display: none;\n",
              "      fill: #1967D2;\n",
              "      height: 32px;\n",
              "      padding: 0 0 0 0;\n",
              "      width: 32px;\n",
              "    }\n",
              "\n",
              "    .colab-df-convert:hover {\n",
              "      background-color: #E2EBFA;\n",
              "      box-shadow: 0px 1px 2px rgba(60, 64, 67, 0.3), 0px 1px 3px 1px rgba(60, 64, 67, 0.15);\n",
              "      fill: #174EA6;\n",
              "    }\n",
              "\n",
              "    [theme=dark] .colab-df-convert {\n",
              "      background-color: #3B4455;\n",
              "      fill: #D2E3FC;\n",
              "    }\n",
              "\n",
              "    [theme=dark] .colab-df-convert:hover {\n",
              "      background-color: #434B5C;\n",
              "      box-shadow: 0px 1px 3px 1px rgba(0, 0, 0, 0.15);\n",
              "      filter: drop-shadow(0px 1px 2px rgba(0, 0, 0, 0.3));\n",
              "      fill: #FFFFFF;\n",
              "    }\n",
              "  </style>\n",
              "\n",
              "      <script>\n",
              "        const buttonEl =\n",
              "          document.querySelector('#df-780dfd83-b896-47b8-9a3c-32f3f038aecb button.colab-df-convert');\n",
              "        buttonEl.style.display =\n",
              "          google.colab.kernel.accessAllowed ? 'block' : 'none';\n",
              "\n",
              "        async function convertToInteractive(key) {\n",
              "          const element = document.querySelector('#df-780dfd83-b896-47b8-9a3c-32f3f038aecb');\n",
              "          const dataTable =\n",
              "            await google.colab.kernel.invokeFunction('convertToInteractive',\n",
              "                                                     [key], {});\n",
              "          if (!dataTable) return;\n",
              "\n",
              "          const docLinkHtml = 'Like what you see? Visit the ' +\n",
              "            '<a target=\"_blank\" href=https://colab.research.google.com/notebooks/data_table.ipynb>data table notebook</a>'\n",
              "            + ' to learn more about interactive tables.';\n",
              "          element.innerHTML = '';\n",
              "          dataTable['output_type'] = 'display_data';\n",
              "          await google.colab.output.renderOutput(dataTable, element);\n",
              "          const docLink = document.createElement('div');\n",
              "          docLink.innerHTML = docLinkHtml;\n",
              "          element.appendChild(docLink);\n",
              "        }\n",
              "      </script>\n",
              "    </div>\n",
              "  </div>\n",
              "  "
            ]
          },
          "metadata": {},
          "execution_count": 25
        }
      ]
    },
    {
      "cell_type": "code",
      "source": [
        "X = df.iloc[:,:10]\n",
        "Y = df.iloc[:,10]"
      ],
      "metadata": {
        "id": "AgGWKrBI97tr"
      },
      "execution_count": null,
      "outputs": []
    },
    {
      "cell_type": "code",
      "source": [
        "X_array = X.to_numpy()\n",
        "y_array = Y.to_numpy()"
      ],
      "metadata": {
        "id": "D0l1OKRcattc"
      },
      "execution_count": null,
      "outputs": []
    },
    {
      "cell_type": "code",
      "source": [
        "X_train, X_test, y_train, y_test = train_test_split(X_array, y_array, train_size = 0.9, random_state = 10)\n",
        "\n",
        "X_train.shape, X_test.shape, y_train.shape, y_test.shape"
      ],
      "metadata": {
        "colab": {
          "base_uri": "https://localhost:8080/"
        },
        "id": "VJHjbxP-bJeW",
        "outputId": "4013552e-e52e-46b8-8e21-03451dc0d10c"
      },
      "execution_count": null,
      "outputs": [
        {
          "output_type": "execute_result",
          "data": {
            "text/plain": [
              "((81000, 10), (9000, 10), (81000,), (9000,))"
            ]
          },
          "metadata": {},
          "execution_count": 28
        }
      ]
    },
    {
      "cell_type": "code",
      "source": [
        "X_train, X_test = X_train.reshape(-1,90,10), X_test.reshape(-1,90,10)\n",
        "y_train, y_test = y_train.reshape(-1,90), y_test.reshape(-1,90)\n",
        "\n",
        "X_train.shape, X_test.shape, y_train.shape, y_test.shape"
      ],
      "metadata": {
        "colab": {
          "base_uri": "https://localhost:8080/"
        },
        "id": "mE9HJBytb5jo",
        "outputId": "97fd3fd8-8cd8-467b-9a4c-f7cb8f1c74a4"
      },
      "execution_count": null,
      "outputs": [
        {
          "output_type": "execute_result",
          "data": {
            "text/plain": [
              "((900, 90, 10), (100, 90, 10), (900, 90), (100, 90))"
            ]
          },
          "metadata": {},
          "execution_count": 29
        }
      ]
    },
    {
      "cell_type": "markdown",
      "source": [
        "##Question 2\n",
        "\n",
        "What is the value of intercept you got after training the model using SGDRegressor?(select the closest answer)\n",
        "\n",
        "+0.005\n",
        "\n",
        "-0.005\n",
        "\n",
        "+0.105\n",
        "\n",
        "-0.105\n",
        "\n",
        "0\n",
        "\n",
        "**Ans: -0.005**"
      ],
      "metadata": {
        "id": "tIi1TKVNfHoG"
      }
    },
    {
      "cell_type": "code",
      "source": [
        "sgd = SGDRegressor(random_state = 10)\n",
        "for i in range(X_train.shape[0]):\n",
        "  X_batch, y_batch = X_train[i], y_train[i]\n",
        "  sgd.partial_fit(X_batch, y_batch)"
      ],
      "metadata": {
        "id": "1_pWp7SEcsbi"
      },
      "execution_count": null,
      "outputs": []
    },
    {
      "cell_type": "code",
      "source": [
        "sgd.intercept_"
      ],
      "metadata": {
        "colab": {
          "base_uri": "https://localhost:8080/"
        },
        "id": "h6vMf5dter_I",
        "outputId": "32e16e47-0882-459d-ddd4-5f30e69134c1"
      },
      "execution_count": null,
      "outputs": [
        {
          "output_type": "execute_result",
          "data": {
            "text/plain": [
              "array([-0.0051044])"
            ]
          },
          "metadata": {},
          "execution_count": 31
        }
      ]
    },
    {
      "cell_type": "markdown",
      "source": [
        "##Question 3\n",
        "\n",
        "What is the value of cofficient corresponding to \"feature-3\"you got after trainig the model using SGDRegressor? (select the closest answer)\n",
        "\n",
        "**Ans: 81.23**"
      ],
      "metadata": {
        "id": "Go0ILIxofl1-"
      }
    },
    {
      "cell_type": "code",
      "source": [
        "sgd.coef_"
      ],
      "metadata": {
        "colab": {
          "base_uri": "https://localhost:8080/"
        },
        "id": "Vg0TSF-3e22r",
        "outputId": "f4c5519b-ad15-416e-b908-1064061affc6"
      },
      "execution_count": null,
      "outputs": [
        {
          "output_type": "execute_result",
          "data": {
            "text/plain": [
              "array([51.32117195, 22.26580455, 81.23785419, 53.19578104, 76.46592847,\n",
              "       71.47197842, 93.45078666, 51.92184073, 30.03844346, 40.95696488])"
            ]
          },
          "metadata": {},
          "execution_count": 32
        }
      ]
    },
    {
      "cell_type": "markdown",
      "source": [
        "##Question 4\n",
        "\n",
        "\n",
        "What is the value of R2 score for test data\n",
        "\n",
        "**Ans: 0.99**"
      ],
      "metadata": {
        "id": "OKVc2ebzgNeu"
      }
    },
    {
      "cell_type": "code",
      "source": [
        "from sklearn.metrics import mean_squared_error, r2_score"
      ],
      "metadata": {
        "id": "hcC2lQCZfuM5"
      },
      "execution_count": null,
      "outputs": []
    },
    {
      "cell_type": "code",
      "source": [
        "y_pred = []\n",
        "for j in range(X_test.shape[0]):\n",
        "  y_preds = sgd.predict(X_test[j])\n",
        "  y_pred.append(y_preds.tolist())\n",
        "\n",
        "print(\"Test MSE      : {}\".format(mean_squared_error(y_test, y_pred)))\n",
        "print(\"Test R2 Score : {}\".format(r2_score(y_test, y_pred)))"
      ],
      "metadata": {
        "colab": {
          "base_uri": "https://localhost:8080/"
        },
        "id": "pT-Sz_3yhsVq",
        "outputId": "e8f223b1-965e-4672-e101-6a0be8114029"
      },
      "execution_count": null,
      "outputs": [
        {
          "output_type": "stream",
          "name": "stdout",
          "text": [
            "Test MSE      : 0.3111147496390788\n",
            "Test R2 Score : 0.999991794553133\n"
          ]
        }
      ]
    },
    {
      "cell_type": "markdown",
      "source": [
        "##Question 5\n",
        "\n",
        "What is the value of cofficient corresponding to \"feature-5\" after 5th iteration.\n",
        "\n",
        "**Ans: 57.04**"
      ],
      "metadata": {
        "id": "wQknpi83j0eI"
      }
    },
    {
      "cell_type": "code",
      "source": [
        "regressor = SGDRegressor(random_state=10)\n",
        "##Selecting data in batches\n",
        "for i in range(X_train.shape[0]): \n",
        "    X_batch, y_batch = X_train[i], y_train[i]\n",
        "    ## Partially fitting data in batches\n",
        "    regressor.partial_fit(X_batch, y_batch)\n",
        "    if i==5:\n",
        "      break\n",
        "print(regressor.coef_)"
      ],
      "metadata": {
        "colab": {
          "base_uri": "https://localhost:8080/"
        },
        "id": "5qP_ksPRj7He",
        "outputId": "cd1978ed-ae7f-404b-ca3d-d19a71322723"
      },
      "execution_count": null,
      "outputs": [
        {
          "output_type": "stream",
          "name": "stdout",
          "text": [
            "[41.24246245 16.19332644 60.46094414 36.84673741 57.04552765 56.74587642\n",
            " 75.84279346 44.89331541 19.20575663 33.21598262]\n"
          ]
        }
      ]
    },
    {
      "cell_type": "markdown",
      "source": [
        "##(Common data for Q6 to Q8 Graded questions)\n",
        "\n",
        "This dataset was constructed by adding elevation information to a 2D road network in North Jutland, Denmark (covering a region of 185 x 135 km^2). Elevation values where extracted from a publicly available massive Laser Scan Point Cloud for Denmark. This 3D road network was eventually used for benchmarking various fuel and CO2 estimation algorithms. This dataset can be used by any applications that require to know very accurate elevation information of a road network to perform more accurate routing for eco-routing, cyclist routes etc. For the data mining and machine learning community, this dataset can be used as 'ground-truth' validation in spatial mining techniques and satellite image processing. It has no class labels,\n",
        "\n",
        "Use this dataset to guess some missing elevation information for some points on the road.\n",
        "\n",
        "Column names:\n",
        "\n",
        "OSM_ID: OpenStreetMap ID for each road segment or edge in the graph.\n",
        "\n",
        "LONGITUDE: Web Mercaptor (Google format) longitude\n",
        "\n",
        "LATITUDE: Web Mercaptor (Google format) latitude\n",
        "\n",
        "ALTITUDE: Height in meters.\n",
        "\n",
        "Load the dataset from link(\"https://archive.ics.uci.edu/ml/machine-learning-databases/00246/3D_spatial_network.txt\"). Set parameter chunk size=20000 and iterator =True in pd.read_csv()."
      ],
      "metadata": {
        "id": "okBQR3DRlW04"
      }
    },
    {
      "cell_type": "code",
      "source": [
        "url = \"https://archive.ics.uci.edu/ml/machine-learning-databases/00246/3D_spatial_network.txt\"\n",
        "df = pd.read_csv(\"https://archive.ics.uci.edu/ml/machine-learning-databases/00246/3D_spatial_network.txt\", header = None)"
      ],
      "metadata": {
        "id": "kdcT_Ndlk4zQ"
      },
      "execution_count": null,
      "outputs": []
    },
    {
      "cell_type": "code",
      "source": [
        "df.head()"
      ],
      "metadata": {
        "colab": {
          "base_uri": "https://localhost:8080/",
          "height": 206
        },
        "id": "SZSRHP63lpjX",
        "outputId": "cddf8c0e-700b-4145-fc2e-de0a381aed3a"
      },
      "execution_count": null,
      "outputs": [
        {
          "output_type": "execute_result",
          "data": {
            "text/plain": [
              "           0         1          2          3\n",
              "0  144552912  9.349849  56.740876  17.052772\n",
              "1  144552912  9.350188  56.740679  17.614840\n",
              "2  144552912  9.350549  56.740544  18.083536\n",
              "3  144552912  9.350806  56.740485  18.279465\n",
              "4  144552912  9.351053  56.740486  18.422974"
            ],
            "text/html": [
              "\n",
              "  <div id=\"df-1bca9fbf-1b81-4bae-8a2a-7f5a57063621\">\n",
              "    <div class=\"colab-df-container\">\n",
              "      <div>\n",
              "<style scoped>\n",
              "    .dataframe tbody tr th:only-of-type {\n",
              "        vertical-align: middle;\n",
              "    }\n",
              "\n",
              "    .dataframe tbody tr th {\n",
              "        vertical-align: top;\n",
              "    }\n",
              "\n",
              "    .dataframe thead th {\n",
              "        text-align: right;\n",
              "    }\n",
              "</style>\n",
              "<table border=\"1\" class=\"dataframe\">\n",
              "  <thead>\n",
              "    <tr style=\"text-align: right;\">\n",
              "      <th></th>\n",
              "      <th>0</th>\n",
              "      <th>1</th>\n",
              "      <th>2</th>\n",
              "      <th>3</th>\n",
              "    </tr>\n",
              "  </thead>\n",
              "  <tbody>\n",
              "    <tr>\n",
              "      <th>0</th>\n",
              "      <td>144552912</td>\n",
              "      <td>9.349849</td>\n",
              "      <td>56.740876</td>\n",
              "      <td>17.052772</td>\n",
              "    </tr>\n",
              "    <tr>\n",
              "      <th>1</th>\n",
              "      <td>144552912</td>\n",
              "      <td>9.350188</td>\n",
              "      <td>56.740679</td>\n",
              "      <td>17.614840</td>\n",
              "    </tr>\n",
              "    <tr>\n",
              "      <th>2</th>\n",
              "      <td>144552912</td>\n",
              "      <td>9.350549</td>\n",
              "      <td>56.740544</td>\n",
              "      <td>18.083536</td>\n",
              "    </tr>\n",
              "    <tr>\n",
              "      <th>3</th>\n",
              "      <td>144552912</td>\n",
              "      <td>9.350806</td>\n",
              "      <td>56.740485</td>\n",
              "      <td>18.279465</td>\n",
              "    </tr>\n",
              "    <tr>\n",
              "      <th>4</th>\n",
              "      <td>144552912</td>\n",
              "      <td>9.351053</td>\n",
              "      <td>56.740486</td>\n",
              "      <td>18.422974</td>\n",
              "    </tr>\n",
              "  </tbody>\n",
              "</table>\n",
              "</div>\n",
              "      <button class=\"colab-df-convert\" onclick=\"convertToInteractive('df-1bca9fbf-1b81-4bae-8a2a-7f5a57063621')\"\n",
              "              title=\"Convert this dataframe to an interactive table.\"\n",
              "              style=\"display:none;\">\n",
              "        \n",
              "  <svg xmlns=\"http://www.w3.org/2000/svg\" height=\"24px\"viewBox=\"0 0 24 24\"\n",
              "       width=\"24px\">\n",
              "    <path d=\"M0 0h24v24H0V0z\" fill=\"none\"/>\n",
              "    <path d=\"M18.56 5.44l.94 2.06.94-2.06 2.06-.94-2.06-.94-.94-2.06-.94 2.06-2.06.94zm-11 1L8.5 8.5l.94-2.06 2.06-.94-2.06-.94L8.5 2.5l-.94 2.06-2.06.94zm10 10l.94 2.06.94-2.06 2.06-.94-2.06-.94-.94-2.06-.94 2.06-2.06.94z\"/><path d=\"M17.41 7.96l-1.37-1.37c-.4-.4-.92-.59-1.43-.59-.52 0-1.04.2-1.43.59L10.3 9.45l-7.72 7.72c-.78.78-.78 2.05 0 2.83L4 21.41c.39.39.9.59 1.41.59.51 0 1.02-.2 1.41-.59l7.78-7.78 2.81-2.81c.8-.78.8-2.07 0-2.86zM5.41 20L4 18.59l7.72-7.72 1.47 1.35L5.41 20z\"/>\n",
              "  </svg>\n",
              "      </button>\n",
              "      \n",
              "  <style>\n",
              "    .colab-df-container {\n",
              "      display:flex;\n",
              "      flex-wrap:wrap;\n",
              "      gap: 12px;\n",
              "    }\n",
              "\n",
              "    .colab-df-convert {\n",
              "      background-color: #E8F0FE;\n",
              "      border: none;\n",
              "      border-radius: 50%;\n",
              "      cursor: pointer;\n",
              "      display: none;\n",
              "      fill: #1967D2;\n",
              "      height: 32px;\n",
              "      padding: 0 0 0 0;\n",
              "      width: 32px;\n",
              "    }\n",
              "\n",
              "    .colab-df-convert:hover {\n",
              "      background-color: #E2EBFA;\n",
              "      box-shadow: 0px 1px 2px rgba(60, 64, 67, 0.3), 0px 1px 3px 1px rgba(60, 64, 67, 0.15);\n",
              "      fill: #174EA6;\n",
              "    }\n",
              "\n",
              "    [theme=dark] .colab-df-convert {\n",
              "      background-color: #3B4455;\n",
              "      fill: #D2E3FC;\n",
              "    }\n",
              "\n",
              "    [theme=dark] .colab-df-convert:hover {\n",
              "      background-color: #434B5C;\n",
              "      box-shadow: 0px 1px 3px 1px rgba(0, 0, 0, 0.15);\n",
              "      filter: drop-shadow(0px 1px 2px rgba(0, 0, 0, 0.3));\n",
              "      fill: #FFFFFF;\n",
              "    }\n",
              "  </style>\n",
              "\n",
              "      <script>\n",
              "        const buttonEl =\n",
              "          document.querySelector('#df-1bca9fbf-1b81-4bae-8a2a-7f5a57063621 button.colab-df-convert');\n",
              "        buttonEl.style.display =\n",
              "          google.colab.kernel.accessAllowed ? 'block' : 'none';\n",
              "\n",
              "        async function convertToInteractive(key) {\n",
              "          const element = document.querySelector('#df-1bca9fbf-1b81-4bae-8a2a-7f5a57063621');\n",
              "          const dataTable =\n",
              "            await google.colab.kernel.invokeFunction('convertToInteractive',\n",
              "                                                     [key], {});\n",
              "          if (!dataTable) return;\n",
              "\n",
              "          const docLinkHtml = 'Like what you see? Visit the ' +\n",
              "            '<a target=\"_blank\" href=https://colab.research.google.com/notebooks/data_table.ipynb>data table notebook</a>'\n",
              "            + ' to learn more about interactive tables.';\n",
              "          element.innerHTML = '';\n",
              "          dataTable['output_type'] = 'display_data';\n",
              "          await google.colab.output.renderOutput(dataTable, element);\n",
              "          const docLink = document.createElement('div');\n",
              "          docLink.innerHTML = docLinkHtml;\n",
              "          element.appendChild(docLink);\n",
              "        }\n",
              "      </script>\n",
              "    </div>\n",
              "  </div>\n",
              "  "
            ]
          },
          "metadata": {},
          "execution_count": 42
        }
      ]
    },
    {
      "cell_type": "markdown",
      "source": [
        "##Question 6\n",
        "\n",
        "Check how many total samples are there in the dataset?\n",
        "\n",
        "**Ans: 434874**"
      ],
      "metadata": {
        "id": "uW945VR6mQZ3"
      }
    },
    {
      "cell_type": "code",
      "source": [
        "df.shape"
      ],
      "metadata": {
        "colab": {
          "base_uri": "https://localhost:8080/"
        },
        "id": "odTGs9x5lr1I",
        "outputId": "7bbcc520-91a3-4d85-c182-93b7c3065a40"
      },
      "execution_count": null,
      "outputs": [
        {
          "output_type": "execute_result",
          "data": {
            "text/plain": [
              "(434874, 4)"
            ]
          },
          "metadata": {},
          "execution_count": 43
        }
      ]
    },
    {
      "cell_type": "markdown",
      "source": [
        "##Question 7\n",
        "\n",
        "What is the value of intercept after 7th iteration. (select the closest option)."
      ],
      "metadata": {
        "id": "wBiJg77TmfDg"
      }
    },
    {
      "cell_type": "code",
      "source": [
        "from sklearn.preprocessing import StandardScaler"
      ],
      "metadata": {
        "id": "MD2ZBwd2nj9e"
      },
      "execution_count": null,
      "outputs": []
    },
    {
      "cell_type": "code",
      "source": [
        "chunksize = 20000\n",
        "regressor = SGDRegressor(random_state=10)\n",
        "scaler  = StandardScaler()\n",
        "\n",
        "for train_df in pd.read_csv(url,\n",
        "                            chunksize=chunksize,\n",
        "                            iterator=True):\n",
        "    xtrain_partial = train_df.iloc[:, 1:3]\n",
        "    ytrain_partial = train_df.iloc[:, 3]\n",
        "    scaler.partial_fit(xtrain_partial, ytrain_partial) \n",
        "\n",
        "\n",
        "iter = 1\n",
        "url_1 = \"https://archive.ics.uci.edu/ml/machine-learning-databases/00246/3D_spatial_network.txt\"\n",
        "for train_df in pd.read_csv(url_1,\n",
        "                            chunksize=chunksize,\n",
        "                            iterator=True):\n",
        "  \n",
        "    xtrain_partial = train_df.iloc[:, 1:3]\n",
        "    ytrain_partial = train_df.iloc[:, 3]\n",
        "    scaler.transform(xtrain_partial)\n",
        "    regressor.partial_fit(xtrain_partial, ytrain_partial)\n",
        "    if iter==7:\n",
        "      print(\"After iter #\", iter)\n",
        "      print(regressor.intercept_) \n",
        "      print(regressor.coef_)\n",
        "      break  \n",
        "    iter = iter + 1"
      ],
      "metadata": {
        "colab": {
          "base_uri": "https://localhost:8080/"
        },
        "id": "Xdn7Z229mUnG",
        "outputId": "9c39151c-8dcd-484c-f13a-f419e4239609"
      },
      "execution_count": null,
      "outputs": [
        {
          "output_type": "stream",
          "name": "stdout",
          "text": [
            "After iter # 7\n",
            "[-3.3580229e+08]\n",
            "[-1732780.23537162  6145752.04828986]\n"
          ]
        }
      ]
    },
    {
      "cell_type": "markdown",
      "source": [
        "##(Common data for Q9 to 11)\n",
        "\n",
        "Load Iris datset on Colab and use KNN classifier to build the model Using following steps.\n",
        "\n",
        "Step 1: Load the dataset and split it using train_test_split by keeping: test_size= 0.2 random_state=10\n",
        "\n",
        "Step 2: Use Normalizer() as a scaling function to scale the data.\n",
        "\n",
        "Step 3: Use KNeighborsClassifier(K) as an estimator to predict the output."
      ],
      "metadata": {
        "id": "YSoThetZvAPu"
      }
    },
    {
      "cell_type": "code",
      "source": [
        "from sklearn.datasets import load_iris\n",
        "from sklearn.neighbors import KNeighborsClassifier\n",
        "from sklearn.pipeline import Pipeline\n",
        "from sklearn.preprocessing import Normalizer\n",
        "from sklearn.metrics import accuracy_score, f1_score"
      ],
      "metadata": {
        "id": "NO9_ZVx7vFUt"
      },
      "execution_count": null,
      "outputs": []
    },
    {
      "cell_type": "code",
      "source": [
        "X, y = load_iris(as_frame = True, return_X_y = True)"
      ],
      "metadata": {
        "id": "SD5TcUyAvdcZ"
      },
      "execution_count": null,
      "outputs": []
    },
    {
      "cell_type": "code",
      "source": [
        "X.shape"
      ],
      "metadata": {
        "colab": {
          "base_uri": "https://localhost:8080/"
        },
        "id": "o8fmrVZ76UDh",
        "outputId": "13f60593-81ef-4e73-aba5-77fc44d1e493"
      },
      "execution_count": null,
      "outputs": [
        {
          "output_type": "execute_result",
          "data": {
            "text/plain": [
              "(150, 4)"
            ]
          },
          "metadata": {},
          "execution_count": 81
        }
      ]
    },
    {
      "cell_type": "code",
      "source": [
        "X_tr, X_te, y_tr, y_te = train_test_split(X, y, test_size = 0.2, random_state = 10)"
      ],
      "metadata": {
        "id": "sAZgBNb0wLn3"
      },
      "execution_count": null,
      "outputs": []
    },
    {
      "cell_type": "code",
      "source": [
        "X_tr.shape, X_te.shape, y_tr.shape, y_te.shape"
      ],
      "metadata": {
        "colab": {
          "base_uri": "https://localhost:8080/"
        },
        "id": "gS597wkp7_zJ",
        "outputId": "f10209fb-842b-46d6-8f14-2419675be43e"
      },
      "execution_count": null,
      "outputs": [
        {
          "output_type": "execute_result",
          "data": {
            "text/plain": [
              "((120, 4), (30, 4), (120,), (30,))"
            ]
          },
          "metadata": {},
          "execution_count": 87
        }
      ]
    },
    {
      "cell_type": "code",
      "source": [
        "N = Normalizer()\n",
        "X_tr_norm = N.fit_transform(X_tr)\n",
        "X_te_norm = N.fit_transform(X_te)"
      ],
      "metadata": {
        "id": "pwuUiXw4wqTZ"
      },
      "execution_count": null,
      "outputs": []
    },
    {
      "cell_type": "code",
      "source": [
        "X_tr_norm.shape"
      ],
      "metadata": {
        "colab": {
          "base_uri": "https://localhost:8080/"
        },
        "id": "yfHhXD3Y722G",
        "outputId": "9aee0eda-df30-46e0-9e2b-7182e6e711a7"
      },
      "execution_count": null,
      "outputs": [
        {
          "output_type": "execute_result",
          "data": {
            "text/plain": [
              "(1437, 64)"
            ]
          },
          "metadata": {},
          "execution_count": 90
        }
      ]
    },
    {
      "cell_type": "markdown",
      "source": [
        "##Question 9\n",
        "\n",
        "What is the accuracy for k=3?\n",
        "\n",
        "0.96\n",
        "\n",
        "0.91\n",
        "\n",
        "0.99\n",
        "\n",
        "1.0\n",
        "\n",
        "**Ans: 0.96**"
      ],
      "metadata": {
        "id": "aj95duhL4j5t"
      }
    },
    {
      "cell_type": "code",
      "source": [
        "for i in range(2,5):\n",
        "  kn = KNeighborsClassifier(i)\n",
        "  clf = kn.fit(X_tr_norm, y_tr)\n",
        "  y_pred = clf.predict(X_te_norm)\n",
        "  acc_score = accuracy_score(y_te, y_pred)\n",
        "  print(f'Accuracey for K={i} is {acc_score}')"
      ],
      "metadata": {
        "colab": {
          "base_uri": "https://localhost:8080/"
        },
        "id": "2lIqKdyKyPRA",
        "outputId": "3081596b-0154-408d-ca5f-87a9ca408a35"
      },
      "execution_count": null,
      "outputs": [
        {
          "output_type": "stream",
          "name": "stdout",
          "text": [
            "Accuracey for K=2 is 0.9666666666666667\n",
            "Accuracey for K=3 is 0.9666666666666667\n",
            "Accuracey for K=4 is 0.9666666666666667\n"
          ]
        }
      ]
    },
    {
      "cell_type": "markdown",
      "source": [
        "##Question 11\n",
        "\n",
        "Compute wieghted F1 score value for k=3.(Keep parameter average='weighted')"
      ],
      "metadata": {
        "id": "298TiWzh_1nX"
      }
    },
    {
      "cell_type": "code",
      "source": [
        "kn = KNeighborsClassifier(3)\n",
        "clf = kn.fit(X_tr_norm, y_tr)\n",
        "y_pred = clf.predict(X_te_norm)\n",
        "f1_score = f1_score(y_te, y_pred, average='weighted')\n",
        "print(f'f1_score for K={3} is {f1_score}')"
      ],
      "metadata": {
        "colab": {
          "base_uri": "https://localhost:8080/"
        },
        "id": "vLlfFKk45e94",
        "outputId": "6c36eebf-4b35-4e69-bd45-0965cdcd5738"
      },
      "execution_count": null,
      "outputs": [
        {
          "output_type": "stream",
          "name": "stdout",
          "text": [
            "f1_score for K=3 is 0.9671111111111111\n"
          ]
        }
      ]
    },
    {
      "cell_type": "code",
      "source": [
        ""
      ],
      "metadata": {
        "id": "L2ppoohJAjYT"
      },
      "execution_count": null,
      "outputs": []
    }
  ]
}